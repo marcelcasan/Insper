{
  "nbformat": 4,
  "nbformat_minor": 0,
  "metadata": {
    "colab": {
      "provenance": [],
      "include_colab_link": true
    },
    "kernelspec": {
      "name": "ir",
      "display_name": "R"
    },
    "language_info": {
      "name": "R"
    }
  },
  "cells": [
    {
      "cell_type": "markdown",
      "metadata": {
        "id": "view-in-github",
        "colab_type": "text"
      },
      "source": [
        "<a href=\"https://colab.research.google.com/github/marcelcasan/Insper/blob/main/Projeto_AEM2_R.ipynb\" target=\"_parent\"><img src=\"https://colab.research.google.com/assets/colab-badge.svg\" alt=\"Open In Colab\"/></a>"
      ]
    },
    {
      "cell_type": "markdown",
      "source": [
        "# Projeto Aprendizagem Estatística de Máquina 2\n",
        "\n",
        "A ideia seria correlacionar as informacoes referentes a IDH (medidas pelos datasets contendo informacoes de educacao, saude e censo) com o que temos sobre o desenvolvimento indrustrial e de comercio dos municipios. Nesse sentido, as nossas medidas de IDH seriam como um eixo Y que é dado em termos de um eixo X (industria e comercio). Queremos vizualizar essa correlacao e gerar clusters que demonstrem isso."
      ],
      "metadata": {
        "id": "jKlQLcIu2NCf"
      }
    },
    {
      "cell_type": "code",
      "execution_count": null,
      "metadata": {
        "id": "LPxaIfjf8HBH",
        "colab": {
          "base_uri": "https://localhost:8080/"
        },
        "outputId": "d5132e55-7a91-421c-9d21-7730cd1264d2"
      },
      "outputs": [
        {
          "output_type": "stream",
          "name": "stderr",
          "text": [
            "── \u001b[1mAttaching core tidyverse packages\u001b[22m ──────────────────────── tidyverse 2.0.0 ──\n",
            "\u001b[32m✔\u001b[39m \u001b[34mdplyr    \u001b[39m 1.1.4     \u001b[32m✔\u001b[39m \u001b[34mreadr    \u001b[39m 2.1.5\n",
            "\u001b[32m✔\u001b[39m \u001b[34mforcats  \u001b[39m 1.0.0     \u001b[32m✔\u001b[39m \u001b[34mstringr  \u001b[39m 1.5.1\n",
            "\u001b[32m✔\u001b[39m \u001b[34mggplot2  \u001b[39m 3.5.2     \u001b[32m✔\u001b[39m \u001b[34mtibble   \u001b[39m 3.2.1\n",
            "\u001b[32m✔\u001b[39m \u001b[34mlubridate\u001b[39m 1.9.4     \u001b[32m✔\u001b[39m \u001b[34mtidyr    \u001b[39m 1.3.1\n",
            "\u001b[32m✔\u001b[39m \u001b[34mpurrr    \u001b[39m 1.0.4     \n",
            "── \u001b[1mConflicts\u001b[22m ────────────────────────────────────────── tidyverse_conflicts() ──\n",
            "\u001b[31m✖\u001b[39m \u001b[34mdplyr\u001b[39m::\u001b[32mfilter()\u001b[39m masks \u001b[34mstats\u001b[39m::filter()\n",
            "\u001b[31m✖\u001b[39m \u001b[34mdplyr\u001b[39m::\u001b[32mlag()\u001b[39m    masks \u001b[34mstats\u001b[39m::lag()\n",
            "\u001b[36mℹ\u001b[39m Use the conflicted package (\u001b[3m\u001b[34m<http://conflicted.r-lib.org/>\u001b[39m\u001b[23m) to force all conflicts to become errors\n"
          ]
        }
      ],
      "source": [
        "library(tidyverse)\n",
        "library(readxl)\n",
        "library(readr)"
      ]
    },
    {
      "cell_type": "markdown",
      "source": [
        "**Médicos classificados por tipo - 2024**\n",
        "\n",
        "Número de médicos classificados por tipo (Sus ou não Sus) para os municípios do Estado de São Paulo"
      ],
      "metadata": {
        "id": "osTcTnEjF2P8"
      }
    },
    {
      "cell_type": "code",
      "source": [
        "df_medicos <- read_delim(\n",
        "  file = \"/content/medicos_tipos.csv\",\n",
        "  delim = \";\",\n",
        "  locale = locale(encoding = \"Latin1\"),\n",
        "  show_col_types = FALSE\n",
        ")"
      ],
      "metadata": {
        "id": "3NYjYR-a_V0w",
        "colab": {
          "base_uri": "https://localhost:8080/",
          "height": 1000
        },
        "outputId": "9d8bce58-5dc4-452e-dfa9-770e064efa1f"
      },
      "execution_count": null,
      "outputs": [
        {
          "output_type": "error",
          "ename": "ERROR",
          "evalue": "Error: '/content/medicos_tipos.csv' does not exist.\n",
          "traceback": [
            "Error: '/content/medicos_tipos.csv' does not exist.\nTraceback:\n",
            "1. vroom::vroom(file, delim = delim, col_names = col_names, col_types = col_types, \n .     col_select = {\n .         {\n .             col_select\n .         }\n .     }, id = id, .name_repair = name_repair, skip = skip, n_max = n_max, \n .     na = na, quote = quote, comment = comment, skip_empty_rows = skip_empty_rows, \n .     trim_ws = trim_ws, escape_double = escape_double, escape_backslash = escape_backslash, \n .     locale = locale, guess_max = guess_max, progress = progress, \n .     altrep = lazy, show_col_types = show_col_types, num_threads = num_threads)",
            "2. vroom_(file, delim = delim %||% col_types$delim, col_names = col_names, \n .     col_types = col_types, id = id, skip = skip, col_select = col_select, \n .     name_repair = .name_repair, na = na, quote = quote, trim_ws = trim_ws, \n .     escape_double = escape_double, escape_backslash = escape_backslash, \n .     comment = comment, skip_empty_rows = skip_empty_rows, locale = locale, \n .     guess_max = guess_max, n_max = n_max, altrep = vroom_altrep(altrep), \n .     num_threads = num_threads, progress = progress)",
            "3. (function (path, write = FALSE) \n . {\n .     if (is.raw(path)) {\n .         return(rawConnection(path, \"rb\"))\n .     }\n .     if (!is.character(path)) {\n .         return(path)\n .     }\n .     if (is_url(path)) {\n .         if (requireNamespace(\"curl\", quietly = TRUE)) {\n .             con <- curl::curl(path)\n .         }\n .         else {\n .             inform(\"`curl` package not installed, falling back to using `url()`\")\n .             con <- url(path)\n .         }\n .         ext <- tolower(tools::file_ext(path))\n .         return(switch(ext, zip = , bz2 = , xz = {\n .             close(con)\n .             stop(\"Reading from remote `\", ext, \"` compressed files is not supported,\\n\", \n .                 \"  download the files locally first.\", call. = FALSE)\n .         }, gz = gzcon(con), con))\n .     }\n .     path <- enc2utf8(path)\n .     p <- split_path_ext(basename_utf8(path))\n .     if (write) {\n .         path <- normalizePath_utf8(path, mustWork = FALSE)\n .     }\n .     else {\n .         path <- check_path(path)\n .     }\n .     if (is_installed(\"archive\")) {\n .         formats <- archive_formats(p$extension)\n .         extension <- p$extension\n .         while (is.null(formats) && nzchar(extension)) {\n .             extension <- split_path_ext(extension)$extension\n .             formats <- archive_formats(extension)\n .         }\n .         if (!is.null(formats)) {\n .             p$extension <- extension\n .             if (write) {\n .                 if (is.null(formats[[1]])) {\n .                   return(archive::file_write(path, filter = formats[[2]]))\n .                 }\n .                 return(archive::archive_write(path, p$path, format = formats[[1]], \n .                   filter = formats[[2]]))\n .             }\n .             if (is.null(formats[[1]])) {\n .                 return(archive::file_read(path, filter = formats[[2]]))\n .             }\n .             return(archive::archive_read(path, format = formats[[1]], \n .                 filter = formats[[2]]))\n .         }\n .     }\n .     if (!write) {\n .         compression <- detect_compression(path)\n .     }\n .     else {\n .         compression <- NA\n .     }\n .     if (is.na(compression)) {\n .         compression <- tools::file_ext(path)\n .     }\n .     if (write && compression == \"zip\") {\n .         stop(\"Can only read from, not write to, .zip\", call. = FALSE)\n .     }\n .     switch(compression, gz = gzfile(path, \"\"), bz2 = bzfile(path, \n .         \"\"), xz = xzfile(path, \"\"), zip = zipfile(path, \"\"), \n .         if (!has_trailing_newline(path)) {\n .             file(path)\n .         } else {\n .             path\n .         })\n . })(\"/content/medicos_tipos.csv\")",
            "4. check_path(path)",
            "5. stop(\"'\", path, \"' does not exist\", if (!is_absolute_path(path)) {\n .     paste0(\" in current working directory ('\", getwd(), \"')\")\n . }, \".\", call. = FALSE)",
            "6. .handleSimpleError(function (cnd) \n . {\n .     watcher$capture_plot_and_output()\n .     cnd <- sanitize_call(cnd)\n .     watcher$push(cnd)\n .     switch(on_error, continue = invokeRestart(\"eval_continue\"), \n .         stop = invokeRestart(\"eval_stop\"), error = NULL)\n . }, \"'/content/medicos_tipos.csv' does not exist.\", base::quote(NULL))"
          ]
        }
      ]
    },
    {
      "cell_type": "code",
      "source": [
        "head(df_medicos, 5)"
      ],
      "metadata": {
        "colab": {
          "base_uri": "https://localhost:8080/",
          "height": 228
        },
        "id": "7ylbFKTw_lqP",
        "outputId": "73354fdc-e52f-4d19-9170-303ef84988c9"
      },
      "execution_count": null,
      "outputs": [
        {
          "output_type": "error",
          "ename": "ERROR",
          "evalue": "Error: object 'df_medicos' not found\n",
          "traceback": [
            "Error: object 'df_medicos' not found\nTraceback:\n",
            "1. .handleSimpleError(function (cnd) \n . {\n .     watcher$capture_plot_and_output()\n .     cnd <- sanitize_call(cnd)\n .     watcher$push(cnd)\n .     switch(on_error, continue = invokeRestart(\"eval_continue\"), \n .         stop = invokeRestart(\"eval_stop\"), error = NULL)\n . }, \"object 'df_medicos' not found\", base::quote(eval(expr, envir)))"
          ]
        }
      ]
    },
    {
      "cell_type": "markdown",
      "source": [
        "**Total de leitos por municípios - 2010 a 2024**\n",
        "\n",
        "Total de leitos por municípios do Estado de São Paulo ─ 2010 a 2024"
      ],
      "metadata": {
        "id": "tUeRb5ctFgK7"
      }
    },
    {
      "cell_type": "code",
      "source": [
        "df_leitos <- read_delim(\n",
        "  file = \"/content/saude_leitos_mun_ano.csv\",\n",
        "  delim = \";\",\n",
        "  locale = locale(encoding = \"Latin1\"),\n",
        "  show_col_types = FALSE\n",
        ")"
      ],
      "metadata": {
        "id": "6pRRdOIjAb-3"
      },
      "execution_count": null,
      "outputs": []
    },
    {
      "cell_type": "code",
      "source": [
        "head(df_leitos, 5)"
      ],
      "metadata": {
        "colab": {
          "base_uri": "https://localhost:8080/",
          "height": 290
        },
        "id": "z2QtkhxFEXep",
        "outputId": "a6bf57be-41fb-47a7-f855-354e478a1c0a"
      },
      "execution_count": null,
      "outputs": [
        {
          "output_type": "display_data",
          "data": {
            "text/html": [
              "<table class=\"dataframe\">\n",
              "<caption>A tibble: 5 × 9</caption>\n",
              "<thead>\n",
              "\t<tr><th scope=col>cod_ibge</th><th scope=col>localidades</th><th scope=col>periodos</th><th scope=col>leitos_total</th><th scope=col>leitos_hab</th><th scope=col>leitos sus</th><th scope=col>leitos_sus_hab</th><th scope=col>leitos não sus</th><th scope=col>leitos_naosus_hab</th></tr>\n",
              "\t<tr><th scope=col>&lt;dbl&gt;</th><th scope=col>&lt;chr&gt;</th><th scope=col>&lt;dbl&gt;</th><th scope=col>&lt;dbl&gt;</th><th scope=col>&lt;chr&gt;</th><th scope=col>&lt;dbl&gt;</th><th scope=col>&lt;chr&gt;</th><th scope=col>&lt;dbl&gt;</th><th scope=col>&lt;chr&gt;</th></tr>\n",
              "</thead>\n",
              "<tbody>\n",
              "\t<tr><td>3500105</td><td>Adamantina      </td><td>2024</td><td>195</td><td>5,618625022</td><td>138</td><td>3,976257708</td><td>57</td><td>1,642367314</td></tr>\n",
              "\t<tr><td>3500303</td><td>Aguaí           </td><td>2024</td><td> 24</td><td>0,74941452 </td><td> 24</td><td>0,74941452 </td><td> 0</td><td>0          </td></tr>\n",
              "\t<tr><td>3500501</td><td>Águas de Lindóia</td><td>2024</td><td> 42</td><td>2,341528684</td><td> 30</td><td>1,672520488</td><td>12</td><td>0,669008195</td></tr>\n",
              "\t<tr><td>3500709</td><td>Agudos          </td><td>2024</td><td> 54</td><td>1,427099025</td><td> 38</td><td>1,004254869</td><td>16</td><td>0,422844156</td></tr>\n",
              "\t<tr><td>3501004</td><td>Altinópolis     </td><td>2024</td><td> 21</td><td>1,244223249</td><td> 19</td><td>1,125725797</td><td> 2</td><td>0,118497452</td></tr>\n",
              "</tbody>\n",
              "</table>\n"
            ],
            "text/markdown": "\nA tibble: 5 × 9\n\n| cod_ibge &lt;dbl&gt; | localidades &lt;chr&gt; | periodos &lt;dbl&gt; | leitos_total &lt;dbl&gt; | leitos_hab &lt;chr&gt; | leitos sus &lt;dbl&gt; | leitos_sus_hab &lt;chr&gt; | leitos não sus &lt;dbl&gt; | leitos_naosus_hab &lt;chr&gt; |\n|---|---|---|---|---|---|---|---|---|\n| 3500105 | Adamantina       | 2024 | 195 | 5,618625022 | 138 | 3,976257708 | 57 | 1,642367314 |\n| 3500303 | Aguaí            | 2024 |  24 | 0,74941452  |  24 | 0,74941452  |  0 | 0           |\n| 3500501 | Águas de Lindóia | 2024 |  42 | 2,341528684 |  30 | 1,672520488 | 12 | 0,669008195 |\n| 3500709 | Agudos           | 2024 |  54 | 1,427099025 |  38 | 1,004254869 | 16 | 0,422844156 |\n| 3501004 | Altinópolis      | 2024 |  21 | 1,244223249 |  19 | 1,125725797 |  2 | 0,118497452 |\n\n",
            "text/latex": "A tibble: 5 × 9\n\\begin{tabular}{lllllllll}\n cod\\_ibge & localidades & periodos & leitos\\_total & leitos\\_hab & leitos sus & leitos\\_sus\\_hab & leitos não sus & leitos\\_naosus\\_hab\\\\\n <dbl> & <chr> & <dbl> & <dbl> & <chr> & <dbl> & <chr> & <dbl> & <chr>\\\\\n\\hline\n\t 3500105 & Adamantina       & 2024 & 195 & 5,618625022 & 138 & 3,976257708 & 57 & 1,642367314\\\\\n\t 3500303 & Aguaí            & 2024 &  24 & 0,74941452  &  24 & 0,74941452  &  0 & 0          \\\\\n\t 3500501 & Águas de Lindóia & 2024 &  42 & 2,341528684 &  30 & 1,672520488 & 12 & 0,669008195\\\\\n\t 3500709 & Agudos           & 2024 &  54 & 1,427099025 &  38 & 1,004254869 & 16 & 0,422844156\\\\\n\t 3501004 & Altinópolis      & 2024 &  21 & 1,244223249 &  19 & 1,125725797 &  2 & 0,118497452\\\\\n\\end{tabular}\n",
            "text/plain": [
              "  cod_ibge localidades      periodos leitos_total leitos_hab  leitos sus\n",
              "1 3500105  Adamantina       2024     195          5,618625022 138       \n",
              "2 3500303  Aguaí            2024      24          0,74941452   24       \n",
              "3 3500501  Águas de Lindóia 2024      42          2,341528684  30       \n",
              "4 3500709  Agudos           2024      54          1,427099025  38       \n",
              "5 3501004  Altinópolis      2024      21          1,244223249  19       \n",
              "  leitos_sus_hab leitos não sus leitos_naosus_hab\n",
              "1 3,976257708    57             1,642367314      \n",
              "2 0,74941452      0             0                \n",
              "3 1,672520488    12             0,669008195      \n",
              "4 1,004254869    16             0,422844156      \n",
              "5 1,125725797     2             0,118497452      "
            ]
          },
          "metadata": {}
        }
      ]
    },
    {
      "cell_type": "markdown",
      "source": [
        "**Número de profissionais por Região de saúde - 2024**\n",
        "\n",
        "Número de médicos e de enfermeiros por habitante e população por Região de Saúde no Estado de São Paulo\n",
        "\n"
      ],
      "metadata": {
        "id": "JdSiClLjGtNF"
      }
    },
    {
      "cell_type": "code",
      "source": [
        "df_prof <- read_delim(\n",
        "  file = \"/content/prof_reg_saude.csv\",\n",
        "  delim = \";\",\n",
        "  locale = locale(encoding = \"Latin1\"),\n",
        "  show_col_types = FALSE\n",
        ")"
      ],
      "metadata": {
        "id": "XmeFTaIcEdcI"
      },
      "execution_count": null,
      "outputs": []
    },
    {
      "cell_type": "code",
      "source": [
        "head(df_prof, 5)"
      ],
      "metadata": {
        "colab": {
          "base_uri": "https://localhost:8080/",
          "height": 255
        },
        "id": "8dJpRN0CG8uA",
        "outputId": "16bd6459-e8cf-4a5b-f2cb-be77da31a81d"
      },
      "execution_count": null,
      "outputs": [
        {
          "output_type": "display_data",
          "data": {
            "text/html": [
              "<table class=\"dataframe\">\n",
              "<caption>A tibble: 5 × 8</caption>\n",
              "<thead>\n",
              "\t<tr><th scope=col>codregsaude</th><th scope=col>enfermeiro</th><th scope=col>médico</th><th scope=col>pop</th><th scope=col>enf_hab</th><th scope=col>med_hab</th><th scope=col>legmapenf</th><th scope=col>legmapmed</th></tr>\n",
              "\t<tr><th scope=col>&lt;dbl&gt;</th><th scope=col>&lt;dbl&gt;</th><th scope=col>&lt;dbl&gt;</th><th scope=col>&lt;dbl&gt;</th><th scope=col>&lt;dbl&gt;</th><th scope=col>&lt;dbl&gt;</th><th scope=col>&lt;chr&gt;</th><th scope=col>&lt;chr&gt;</th></tr>\n",
              "</thead>\n",
              "<tbody>\n",
              "\t<tr><td>35063</td><td>  987</td><td> 1719</td><td>  303930</td><td>325</td><td>566</td><td>2,50 a 3,25</td><td>4,00 a 5,66</td></tr>\n",
              "\t<tr><td>35132</td><td> 2321</td><td> 5030</td><td>  921966</td><td>252</td><td>546</td><td>2,50 a 3,25</td><td>4,00 a 5,66</td></tr>\n",
              "\t<tr><td>35051</td><td>  869</td><td> 1462</td><td>  286609</td><td>303</td><td>510</td><td>2,50 a 3,25</td><td>4,00 a 5,66</td></tr>\n",
              "\t<tr><td>35016</td><td>32386</td><td>53817</td><td>11429865</td><td>283</td><td>471</td><td>2,50 a 3,25</td><td>4,00 a 5,66</td></tr>\n",
              "\t<tr><td>35155</td><td> 2151</td><td> 3427</td><td>  773561</td><td>278</td><td>443</td><td>2,50 a 3,25</td><td>4,00 a 5,66</td></tr>\n",
              "</tbody>\n",
              "</table>\n"
            ],
            "text/markdown": "\nA tibble: 5 × 8\n\n| codregsaude &lt;dbl&gt; | enfermeiro &lt;dbl&gt; | médico &lt;dbl&gt; | pop &lt;dbl&gt; | enf_hab &lt;dbl&gt; | med_hab &lt;dbl&gt; | legmapenf &lt;chr&gt; | legmapmed &lt;chr&gt; |\n|---|---|---|---|---|---|---|---|\n| 35063 |   987 |  1719 |   303930 | 325 | 566 | 2,50 a 3,25 | 4,00 a 5,66 |\n| 35132 |  2321 |  5030 |   921966 | 252 | 546 | 2,50 a 3,25 | 4,00 a 5,66 |\n| 35051 |   869 |  1462 |   286609 | 303 | 510 | 2,50 a 3,25 | 4,00 a 5,66 |\n| 35016 | 32386 | 53817 | 11429865 | 283 | 471 | 2,50 a 3,25 | 4,00 a 5,66 |\n| 35155 |  2151 |  3427 |   773561 | 278 | 443 | 2,50 a 3,25 | 4,00 a 5,66 |\n\n",
            "text/latex": "A tibble: 5 × 8\n\\begin{tabular}{llllllll}\n codregsaude & enfermeiro & médico & pop & enf\\_hab & med\\_hab & legmapenf & legmapmed\\\\\n <dbl> & <dbl> & <dbl> & <dbl> & <dbl> & <dbl> & <chr> & <chr>\\\\\n\\hline\n\t 35063 &   987 &  1719 &   303930 & 325 & 566 & 2,50 a 3,25 & 4,00 a 5,66\\\\\n\t 35132 &  2321 &  5030 &   921966 & 252 & 546 & 2,50 a 3,25 & 4,00 a 5,66\\\\\n\t 35051 &   869 &  1462 &   286609 & 303 & 510 & 2,50 a 3,25 & 4,00 a 5,66\\\\\n\t 35016 & 32386 & 53817 & 11429865 & 283 & 471 & 2,50 a 3,25 & 4,00 a 5,66\\\\\n\t 35155 &  2151 &  3427 &   773561 & 278 & 443 & 2,50 a 3,25 & 4,00 a 5,66\\\\\n\\end{tabular}\n",
            "text/plain": [
              "  codregsaude enfermeiro médico pop      enf_hab med_hab legmapenf  \n",
              "1 35063         987       1719    303930 325     566     2,50 a 3,25\n",
              "2 35132        2321       5030    921966 252     546     2,50 a 3,25\n",
              "3 35051         869       1462    286609 303     510     2,50 a 3,25\n",
              "4 35016       32386      53817  11429865 283     471     2,50 a 3,25\n",
              "5 35155        2151       3427    773561 278     443     2,50 a 3,25\n",
              "  legmapmed  \n",
              "1 4,00 a 5,66\n",
              "2 4,00 a 5,66\n",
              "3 4,00 a 5,66\n",
              "4 4,00 a 5,66\n",
              "5 4,00 a 5,66"
            ]
          },
          "metadata": {}
        }
      ]
    },
    {
      "cell_type": "markdown",
      "source": [
        "**Estabelecimentos de saúde por municípios - 2024**\n",
        "\n",
        "Estabelecimentos de saúde classificados segundo tipo de esfera administrativa por municípios do Estado de São Paulo"
      ],
      "metadata": {
        "id": "ywGEjTZZHDTH"
      }
    },
    {
      "cell_type": "code",
      "source": [
        "df_estabelec <- read_delim(\n",
        "  file = \"/content/estabelecimentos_saude.csv\",\n",
        "  delim = \";\",\n",
        "  locale = locale(encoding = \"Latin1\"),\n",
        "  show_col_types = FALSE\n",
        ")"
      ],
      "metadata": {
        "id": "UONACvcXHCp6"
      },
      "execution_count": null,
      "outputs": []
    },
    {
      "cell_type": "code",
      "source": [
        "head(df_estabelec, 5)"
      ],
      "metadata": {
        "colab": {
          "base_uri": "https://localhost:8080/",
          "height": 255
        },
        "id": "-u6fmrqOHfjt",
        "outputId": "ccd1fa3f-f1c3-4814-9dd0-3b7b1b99f680"
      },
      "execution_count": null,
      "outputs": [
        {
          "output_type": "display_data",
          "data": {
            "text/html": [
              "<table class=\"dataframe\">\n",
              "<caption>A tibble: 5 × 7</caption>\n",
              "<thead>\n",
              "\t<tr><th scope=col>co_mun</th><th scope=col>tiposeade</th><th scope=col>estadual</th><th scope=col>federal</th><th scope=col>municipal</th><th scope=col>particular</th><th scope=col>total_geral</th></tr>\n",
              "\t<tr><th scope=col>&lt;dbl&gt;</th><th scope=col>&lt;chr&gt;</th><th scope=col>&lt;dbl&gt;</th><th scope=col>&lt;dbl&gt;</th><th scope=col>&lt;dbl&gt;</th><th scope=col>&lt;dbl&gt;</th><th scope=col>&lt;dbl&gt;</th></tr>\n",
              "</thead>\n",
              "<tbody>\n",
              "\t<tr><td>3500105</td><td>Clínica            </td><td>NA</td><td>NA</td><td> 3</td><td> 18</td><td> 21</td></tr>\n",
              "\t<tr><td>3500105</td><td>Consultório Isolado</td><td>NA</td><td>NA</td><td>NA</td><td>131</td><td>131</td></tr>\n",
              "\t<tr><td>3500105</td><td>Diagnose e Terapia </td><td>NA</td><td>NA</td><td> 1</td><td> 17</td><td> 18</td></tr>\n",
              "\t<tr><td>3500105</td><td>Hospital           </td><td>NA</td><td>NA</td><td>NA</td><td>  2</td><td>  2</td></tr>\n",
              "\t<tr><td>3500105</td><td>Outros             </td><td>NA</td><td>NA</td><td> 3</td><td>  2</td><td>  5</td></tr>\n",
              "</tbody>\n",
              "</table>\n"
            ],
            "text/markdown": "\nA tibble: 5 × 7\n\n| co_mun &lt;dbl&gt; | tiposeade &lt;chr&gt; | estadual &lt;dbl&gt; | federal &lt;dbl&gt; | municipal &lt;dbl&gt; | particular &lt;dbl&gt; | total_geral &lt;dbl&gt; |\n|---|---|---|---|---|---|---|\n| 3500105 | Clínica             | NA | NA |  3 |  18 |  21 |\n| 3500105 | Consultório Isolado | NA | NA | NA | 131 | 131 |\n| 3500105 | Diagnose e Terapia  | NA | NA |  1 |  17 |  18 |\n| 3500105 | Hospital            | NA | NA | NA |   2 |   2 |\n| 3500105 | Outros              | NA | NA |  3 |   2 |   5 |\n\n",
            "text/latex": "A tibble: 5 × 7\n\\begin{tabular}{lllllll}\n co\\_mun & tiposeade & estadual & federal & municipal & particular & total\\_geral\\\\\n <dbl> & <chr> & <dbl> & <dbl> & <dbl> & <dbl> & <dbl>\\\\\n\\hline\n\t 3500105 & Clínica             & NA & NA &  3 &  18 &  21\\\\\n\t 3500105 & Consultório Isolado & NA & NA & NA & 131 & 131\\\\\n\t 3500105 & Diagnose e Terapia  & NA & NA &  1 &  17 &  18\\\\\n\t 3500105 & Hospital            & NA & NA & NA &   2 &   2\\\\\n\t 3500105 & Outros              & NA & NA &  3 &   2 &   5\\\\\n\\end{tabular}\n",
            "text/plain": [
              "  co_mun  tiposeade           estadual federal municipal particular total_geral\n",
              "1 3500105 Clínica             NA       NA       3         18         21        \n",
              "2 3500105 Consultório Isolado NA       NA      NA        131        131        \n",
              "3 3500105 Diagnose e Terapia  NA       NA       1         17         18        \n",
              "4 3500105 Hospital            NA       NA      NA          2          2        \n",
              "5 3500105 Outros              NA       NA       3          2          5        "
            ]
          },
          "metadata": {}
        }
      ]
    },
    {
      "cell_type": "code",
      "source": [
        "read <- function(filename) {\n",
        "  # Funcao para leitura especifica dos arquivos na pasta data\n",
        "  read_delim(sprintf(\"data/%s\", filename), delim=\";\", locale=locale(encoding=\"Latin1\"))\n",
        "}\n",
        "\n",
        "vti_df_raw <- read(\"basevti_municipios.csv\")"
      ],
      "metadata": {
        "colab": {
          "base_uri": "https://localhost:8080/",
          "height": 1000
        },
        "id": "rreEx1SDPZmR",
        "outputId": "2ca8b050-dccd-40e3-9169-7f48aeb299ac"
      },
      "execution_count": null,
      "outputs": [
        {
          "output_type": "error",
          "ename": "ERROR",
          "evalue": "Error: 'data/basevti_municipios.csv' does not exist in current working directory ('/content').\n",
          "traceback": [
            "Error: 'data/basevti_municipios.csv' does not exist in current working directory ('/content').\nTraceback:\n",
            "1. read_delim(sprintf(\"data/%s\", filename), delim = \";\", locale = locale(encoding = \"Latin1\"))",
            "2. vroom::vroom(file, delim = delim, col_names = col_names, col_types = col_types, \n .     col_select = {\n .         {\n .             col_select\n .         }\n .     }, id = id, .name_repair = name_repair, skip = skip, n_max = n_max, \n .     na = na, quote = quote, comment = comment, skip_empty_rows = skip_empty_rows, \n .     trim_ws = trim_ws, escape_double = escape_double, escape_backslash = escape_backslash, \n .     locale = locale, guess_max = guess_max, progress = progress, \n .     altrep = lazy, show_col_types = show_col_types, num_threads = num_threads)",
            "3. vroom_(file, delim = delim %||% col_types$delim, col_names = col_names, \n .     col_types = col_types, id = id, skip = skip, col_select = col_select, \n .     name_repair = .name_repair, na = na, quote = quote, trim_ws = trim_ws, \n .     escape_double = escape_double, escape_backslash = escape_backslash, \n .     comment = comment, skip_empty_rows = skip_empty_rows, locale = locale, \n .     guess_max = guess_max, n_max = n_max, altrep = vroom_altrep(altrep), \n .     num_threads = num_threads, progress = progress)",
            "4. (function (path, write = FALSE) \n . {\n .     if (is.raw(path)) {\n .         return(rawConnection(path, \"rb\"))\n .     }\n .     if (!is.character(path)) {\n .         return(path)\n .     }\n .     if (is_url(path)) {\n .         if (requireNamespace(\"curl\", quietly = TRUE)) {\n .             con <- curl::curl(path)\n .         }\n .         else {\n .             inform(\"`curl` package not installed, falling back to using `url()`\")\n .             con <- url(path)\n .         }\n .         ext <- tolower(tools::file_ext(path))\n .         return(switch(ext, zip = , bz2 = , xz = {\n .             close(con)\n .             stop(\"Reading from remote `\", ext, \"` compressed files is not supported,\\n\", \n .                 \"  download the files locally first.\", call. = FALSE)\n .         }, gz = gzcon(con), con))\n .     }\n .     path <- enc2utf8(path)\n .     p <- split_path_ext(basename_utf8(path))\n .     if (write) {\n .         path <- normalizePath_utf8(path, mustWork = FALSE)\n .     }\n .     else {\n .         path <- check_path(path)\n .     }\n .     if (is_installed(\"archive\")) {\n .         formats <- archive_formats(p$extension)\n .         extension <- p$extension\n .         while (is.null(formats) && nzchar(extension)) {\n .             extension <- split_path_ext(extension)$extension\n .             formats <- archive_formats(extension)\n .         }\n .         if (!is.null(formats)) {\n .             p$extension <- extension\n .             if (write) {\n .                 if (is.null(formats[[1]])) {\n .                   return(archive::file_write(path, filter = formats[[2]]))\n .                 }\n .                 return(archive::archive_write(path, p$path, format = formats[[1]], \n .                   filter = formats[[2]]))\n .             }\n .             if (is.null(formats[[1]])) {\n .                 return(archive::file_read(path, filter = formats[[2]]))\n .             }\n .             return(archive::archive_read(path, format = formats[[1]], \n .                 filter = formats[[2]]))\n .         }\n .     }\n .     if (!write) {\n .         compression <- detect_compression(path)\n .     }\n .     else {\n .         compression <- NA\n .     }\n .     if (is.na(compression)) {\n .         compression <- tools::file_ext(path)\n .     }\n .     if (write && compression == \"zip\") {\n .         stop(\"Can only read from, not write to, .zip\", call. = FALSE)\n .     }\n .     switch(compression, gz = gzfile(path, \"\"), bz2 = bzfile(path, \n .         \"\"), xz = xzfile(path, \"\"), zip = zipfile(path, \"\"), \n .         if (!has_trailing_newline(path)) {\n .             file(path)\n .         } else {\n .             path\n .         })\n . })(\"data/basevti_municipios.csv\")",
            "5. check_path(path)",
            "6. stop(\"'\", path, \"' does not exist\", if (!is_absolute_path(path)) {\n .     paste0(\" in current working directory ('\", getwd(), \"')\")\n . }, \".\", call. = FALSE)",
            "7. .handleSimpleError(function (cnd) \n . {\n .     watcher$capture_plot_and_output()\n .     cnd <- sanitize_call(cnd)\n .     watcher$push(cnd)\n .     switch(on_error, continue = invokeRestart(\"eval_continue\"), \n .         stop = invokeRestart(\"eval_stop\"), error = NULL)\n . }, \"'data/basevti_municipios.csv' does not exist in current working directory ('/content').\", \n .     base::quote(NULL))"
          ]
        }
      ]
    },
    {
      "cell_type": "code",
      "source": [
        "head(vti_df_raw, 10)"
      ],
      "metadata": {
        "colab": {
          "base_uri": "https://localhost:8080/",
          "height": 233
        },
        "id": "xV8jZt2wbuAK",
        "outputId": "d822c4fa-9d46-43de-a7be-2f732587ea7a"
      },
      "execution_count": null,
      "outputs": [
        {
          "output_type": "error",
          "ename": "ERROR",
          "evalue": "Error: object 'vti_df_raw' not found\n",
          "traceback": [
            "Error: object 'vti_df_raw' not found\nTraceback:\n",
            "1. .handleSimpleError(function (cnd) \n . {\n .     watcher$capture_plot_and_output()\n .     cnd <- sanitize_call(cnd)\n .     watcher$push(cnd)\n .     switch(on_error, continue = invokeRestart(\"eval_continue\"), \n .         stop = invokeRestart(\"eval_stop\"), error = NULL)\n . }, \"object 'vti_df_raw' not found\", base::quote(eval(expr, envir)))"
          ]
        }
      ]
    },
    {
      "cell_type": "code",
      "source": [
        "read <- function(filename) {\n",
        "  # Funcao para leitura especifica dos arquivos na pasta data\n",
        "  read_delim(sprintf(\"data/%s\", filename), delim=\";\", locale=locale(encoding=\"Latin1\"))\n",
        "}\n",
        "\n",
        "pib_df_raw <- read(\"pib_municipal_2002_2020.csv\")\n",
        "exp_df_raw <- read(\"valor_das_exportacoes_por_municipio_do_ESP.csv\")\n",
        "vti_df_raw <- read(\"basevti_municipios.csv\")\n",
        "edu_df_raw <- read(\"educacaoideb.csv\")\n",
        "sau_df_raw <- read(\"saude_leitos_mun_ano.csv\")"
      ],
      "metadata": {
        "colab": {
          "base_uri": "https://localhost:8080/"
        },
        "id": "8VvT6C0hFZo6",
        "outputId": "9ea81825-7c04-45df-a689-4e3a1702c0a7"
      },
      "execution_count": 33,
      "outputs": [
        {
          "output_type": "stream",
          "name": "stderr",
          "text": [
            "\u001b[1mRows: \u001b[22m\u001b[34m85785\u001b[39m \u001b[1mColumns: \u001b[22m\u001b[34m5\u001b[39m\n",
            "\u001b[36m──\u001b[39m \u001b[1mColumn specification\u001b[22m \u001b[36m────────────────────────────────────────────────────────\u001b[39m\n",
            "\u001b[1mDelimiter:\u001b[22m \";\"\n",
            "\u001b[31mchr\u001b[39m (3): Localidade, Setor, Valor\n",
            "\u001b[32mdbl\u001b[39m (2): Cod_Ibge, Ano\n",
            "\n",
            "\u001b[36mℹ\u001b[39m Use `spec()` to retrieve the full column specification for this data.\n",
            "\u001b[36mℹ\u001b[39m Specify the column types or set `show_col_types = FALSE` to quiet this message.\n",
            "\u001b[1mRows: \u001b[22m\u001b[34m2326693\u001b[39m \u001b[1mColumns: \u001b[22m\u001b[34m9\u001b[39m\n",
            "\u001b[36m──\u001b[39m \u001b[1mColumn specification\u001b[22m \u001b[36m────────────────────────────────────────────────────────\u001b[39m\n",
            "\u001b[1mDelimiter:\u001b[22m \";\"\n",
            "\u001b[31mchr\u001b[39m  (4): CO_MES, SH4, CO_PAIS, SG_UF_MUN\n",
            "\u001b[32mdbl\u001b[39m  (4): CO_ANO, CO_MUN, KG_LIQUIDO, VALOR_FOB\n",
            "\u001b[34mdttm\u001b[39m (1): Data\n",
            "\n",
            "\u001b[36mℹ\u001b[39m Use `spec()` to retrieve the full column specification for this data.\n",
            "\u001b[36mℹ\u001b[39m Specify the column types or set `show_col_types = FALSE` to quiet this message.\n",
            "\u001b[1mRows: \u001b[22m\u001b[34m294120\u001b[39m \u001b[1mColumns: \u001b[22m\u001b[34m7\u001b[39m\n",
            "\u001b[36m──\u001b[39m \u001b[1mColumn specification\u001b[22m \u001b[36m────────────────────────────────────────────────────────\u001b[39m\n",
            "\u001b[1mDelimiter:\u001b[22m \";\"\n",
            "\u001b[31mchr\u001b[39m (4): município, setor,  vti_milreais,  vti_milreais2021 \n",
            "\u001b[32mdbl\u001b[39m (2): cod municipio, ano\n",
            "\u001b[32mnum\u001b[39m (1): cod setor\n",
            "\n",
            "\u001b[36mℹ\u001b[39m Use `spec()` to retrieve the full column specification for this data.\n",
            "\u001b[36mℹ\u001b[39m Specify the column types or set `show_col_types = FALSE` to quiet this message.\n",
            "\u001b[1mRows: \u001b[22m\u001b[34m4380\u001b[39m \u001b[1mColumns: \u001b[22m\u001b[34m13\u001b[39m\n",
            "\u001b[36m──\u001b[39m \u001b[1mColumn specification\u001b[22m \u001b[36m────────────────────────────────────────────────────────\u001b[39m\n",
            "\u001b[1mDelimiter:\u001b[22m \";\"\n",
            "\u001b[31mchr\u001b[39m (3): Localidade, Rede, Anos\n",
            "\u001b[32mdbl\u001b[39m (1): Cod\n",
            "\u001b[32mnum\u001b[39m (9): IDEB 2015, IDEB 2017, IDEB 2019, IDEB 2021, IDEB 2023, Meta  2015, ...\n",
            "\n",
            "\u001b[36mℹ\u001b[39m Use `spec()` to retrieve the full column specification for this data.\n",
            "\u001b[36mℹ\u001b[39m Specify the column types or set `show_col_types = FALSE` to quiet this message.\n",
            "\u001b[1mRows: \u001b[22m\u001b[34m9097\u001b[39m \u001b[1mColumns: \u001b[22m\u001b[34m9\u001b[39m\n",
            "\u001b[36m──\u001b[39m \u001b[1mColumn specification\u001b[22m \u001b[36m────────────────────────────────────────────────────────\u001b[39m\n",
            "\u001b[1mDelimiter:\u001b[22m \";\"\n",
            "\u001b[31mchr\u001b[39m (4): localidades, leitos_hab, leitos_sus_hab, leitos_naosus_hab\n",
            "\u001b[32mdbl\u001b[39m (5): cod_ibge, periodos, leitos_total, leitos sus, leitos não sus\n",
            "\n",
            "\u001b[36mℹ\u001b[39m Use `spec()` to retrieve the full column specification for this data.\n",
            "\u001b[36mℹ\u001b[39m Specify the column types or set `show_col_types = FALSE` to quiet this message.\n"
          ]
        }
      ]
    },
    {
      "cell_type": "code",
      "source": [
        "library(rlang)\n",
        "\n",
        "# A ideia é criar variaveis que capturem a evolução temporal pela qual cada município passou na variável de interesse.\n",
        "# Ao fim pretendemos obter uma única linha para cada município.\n",
        "# Cada variável gerará um novo conjunto de valores, a saber:\n",
        "# - quartis da distribuição: 25%, 50%, 75%, 90%\n",
        "# - média\n",
        "# - desvio padrão\n",
        "# - soma total\n",
        "# Outro ponto de interesse poderia ser criar colunas que revelassem o valor cumulativo até determinado ponto temporal. ex:\n",
        "# - valor cumulativo do VTI até 50% do tempo disponibilizado, valor cumulativo VTI até 75% do tempo disponibilizado e etc.\n",
        "\n",
        "column_statistics <- function(df, col, group_cols, wider = TRUE) {\n",
        "  col <- ensym(col)\n",
        "  col_name <- as_string(col)\n",
        "\n",
        "  result <- df %>%\n",
        "    group_by(!!!syms(group_cols)) %>%\n",
        "    summarise(\n",
        "      \"{col_name}_25\" := quantile(!!col, 0.25, na.rm = TRUE),\n",
        "      \"{col_name}_50\" := quantile(!!col, 0.50, na.rm = TRUE),\n",
        "      \"{col_name}_75\" := quantile(!!col, 0.75, na.rm = TRUE),\n",
        "      \"{col_name}_90\" := quantile(!!col, 0.90, na.rm = TRUE),\n",
        "      \"{col_name}_mean\" := mean(!!col, na.rm = TRUE),\n",
        "      \"{col_name}_std\" := sd(!!col, na.rm = TRUE),\n",
        "      \"{col_name}_sum\" := sum(!!col, na.rm = TRUE),\n",
        "      .groups = \"drop\"\n",
        "    )\n",
        "\n",
        "  # Aplica pivot_wider() apenas se wider = TRUE e houver mais de uma coluna de agrupamento\n",
        "  if (wider && length(group_cols) > 1) {\n",
        "    result <- result %>%\n",
        "      pivot_wider(\n",
        "        id_cols = all_of(group_cols[1]),\n",
        "        names_from = all_of(group_cols[-1]),\n",
        "        values_from = starts_with(col_name),\n",
        "        names_glue = \"setor_{cod_setor}_{.value}\"\n",
        "      )\n",
        "  }\n",
        "\n",
        "  # Substitui NA e NaN por 0\n",
        "  result <- result %>%\n",
        "    mutate(across(everything(), ~ replace(., is.na(.) | is.nan(.), 0)))\n",
        "\n",
        "  return(result)\n",
        "}"
      ],
      "metadata": {
        "id": "HHbn97juPXIS",
        "colab": {
          "base_uri": "https://localhost:8080/"
        },
        "outputId": "4bff028f-941c-4fd6-c66b-24d415fb30a7"
      },
      "execution_count": 7,
      "outputs": [
        {
          "output_type": "stream",
          "name": "stderr",
          "text": [
            "\n",
            "Attaching package: ‘rlang’\n",
            "\n",
            "\n",
            "The following objects are masked from ‘package:purrr’:\n",
            "\n",
            "    %@%, flatten, flatten_chr, flatten_dbl, flatten_int, flatten_lgl,\n",
            "    flatten_raw, invoke, splice\n",
            "\n",
            "\n"
          ]
        }
      ]
    },
    {
      "cell_type": "markdown",
      "source": [
        "## Dados de Valor de Transformação Industrial\n",
        "\n",
        "https://repositorio.seade.gov.br/dataset/seade-industria"
      ],
      "metadata": {
        "id": "qDPUYcrIy8Gn"
      }
    },
    {
      "cell_type": "code",
      "source": [
        "# Aqui estamos trabalhando com o VTI (valor de transformação industrial) e no intervalo de tempo dado calculamos (as operações):\n",
        "# NOTA: as agregações do VTI estão em termos de cada setor sob análise.\n",
        "# Assim, leia-se: setor_<cod_setor>_vti_<operacao> (ex: setor_10_vti_25, quartil de 25% do vti no setor 10).\n",
        "\n",
        "vti_df_prep <- vti_df_raw %>%\n",
        "  transmute(\n",
        "    cod_municipio=`cod municipio`,\n",
        "    ano,\n",
        "    vti=as.numeric(gsub(\",\", \".\", ` vti_milreais`))*1000\n",
        "  )\n",
        "\n",
        "vti_df <- column_statistics(vti_df_prep, vti, c(\"cod_municipio\"))\n",
        "vti_df %>% head(10)"
      ],
      "metadata": {
        "id": "DR5pPBoZP6nf",
        "colab": {
          "base_uri": "https://localhost:8080/",
          "height": 411
        },
        "outputId": "7fe75fc5-1da6-46b1-9ca5-3bced2253903"
      },
      "execution_count": 47,
      "outputs": [
        {
          "output_type": "display_data",
          "data": {
            "text/html": [
              "<table class=\"dataframe\">\n",
              "<caption>A tibble: 10 × 8</caption>\n",
              "<thead>\n",
              "\t<tr><th scope=col>cod_municipio</th><th scope=col>vti_25</th><th scope=col>vti_50</th><th scope=col>vti_75</th><th scope=col>vti_90</th><th scope=col>vti_mean</th><th scope=col>vti_std</th><th scope=col>vti_sum</th></tr>\n",
              "\t<tr><th scope=col>&lt;dbl&gt;</th><th scope=col>&lt;dbl&gt;</th><th scope=col>&lt;dbl&gt;</th><th scope=col>&lt;dbl&gt;</th><th scope=col>&lt;dbl&gt;</th><th scope=col>&lt;dbl&gt;</th><th scope=col>&lt;dbl&gt;</th><th scope=col>&lt;dbl&gt;</th></tr>\n",
              "</thead>\n",
              "<tbody>\n",
              "\t<tr><td>3500105</td><td>123200.0</td><td>1095260</td><td>15642245</td><td> 37443342</td><td>1.544425e+07</td><td>3.920283e+07</td><td> 2888074220</td></tr>\n",
              "\t<tr><td>3500204</td><td>     0.0</td><td>      0</td><td>       0</td><td>        0</td><td>0.000000e+00</td><td>0.000000e+00</td><td>          0</td></tr>\n",
              "\t<tr><td>3500303</td><td>660792.5</td><td>3954765</td><td>15548948</td><td> 95812840</td><td>2.184789e+07</td><td>4.006342e+07</td><td> 3015008350</td></tr>\n",
              "\t<tr><td>3500402</td><td> 33460.0</td><td> 813000</td><td> 2850960</td><td> 12502680</td><td>3.447962e+06</td><td>5.460411e+06</td><td>  210325690</td></tr>\n",
              "\t<tr><td>3500501</td><td>159900.0</td><td>2635780</td><td> 6901320</td><td> 12987276</td><td>4.357546e+06</td><td>5.478619e+06</td><td>  248380130</td></tr>\n",
              "\t<tr><td>3500550</td><td>645445.0</td><td>3513825</td><td> 5210262</td><td>  8060988</td><td>4.043013e+06</td><td>5.006163e+06</td><td>   97032310</td></tr>\n",
              "\t<tr><td>3500600</td><td>     5.0</td><td>     10</td><td>      35</td><td>       50</td><td>2.333333e+01</td><td>3.214550e+01</td><td>         70</td></tr>\n",
              "\t<tr><td>3500709</td><td> 31292.5</td><td>1917530</td><td>14218145</td><td>482981970</td><td>1.024507e+08</td><td>2.203586e+08</td><td>18236225890</td></tr>\n",
              "\t<tr><td>3500758</td><td>526170.0</td><td>2528510</td><td> 3573275</td><td>  4753258</td><td>2.545182e+06</td><td>2.370814e+06</td><td>   48358450</td></tr>\n",
              "\t<tr><td>3500808</td><td>102620.0</td><td>8276490</td><td>19966860</td><td> 27470516</td><td>1.098990e+07</td><td>1.343922e+07</td><td>  186828240</td></tr>\n",
              "</tbody>\n",
              "</table>\n"
            ],
            "text/markdown": "\nA tibble: 10 × 8\n\n| cod_municipio &lt;dbl&gt; | vti_25 &lt;dbl&gt; | vti_50 &lt;dbl&gt; | vti_75 &lt;dbl&gt; | vti_90 &lt;dbl&gt; | vti_mean &lt;dbl&gt; | vti_std &lt;dbl&gt; | vti_sum &lt;dbl&gt; |\n|---|---|---|---|---|---|---|---|\n| 3500105 | 123200.0 | 1095260 | 15642245 |  37443342 | 1.544425e+07 | 3.920283e+07 |  2888074220 |\n| 3500204 |      0.0 |       0 |        0 |         0 | 0.000000e+00 | 0.000000e+00 |           0 |\n| 3500303 | 660792.5 | 3954765 | 15548948 |  95812840 | 2.184789e+07 | 4.006342e+07 |  3015008350 |\n| 3500402 |  33460.0 |  813000 |  2850960 |  12502680 | 3.447962e+06 | 5.460411e+06 |   210325690 |\n| 3500501 | 159900.0 | 2635780 |  6901320 |  12987276 | 4.357546e+06 | 5.478619e+06 |   248380130 |\n| 3500550 | 645445.0 | 3513825 |  5210262 |   8060988 | 4.043013e+06 | 5.006163e+06 |    97032310 |\n| 3500600 |      5.0 |      10 |       35 |        50 | 2.333333e+01 | 3.214550e+01 |          70 |\n| 3500709 |  31292.5 | 1917530 | 14218145 | 482981970 | 1.024507e+08 | 2.203586e+08 | 18236225890 |\n| 3500758 | 526170.0 | 2528510 |  3573275 |   4753258 | 2.545182e+06 | 2.370814e+06 |    48358450 |\n| 3500808 | 102620.0 | 8276490 | 19966860 |  27470516 | 1.098990e+07 | 1.343922e+07 |   186828240 |\n\n",
            "text/latex": "A tibble: 10 × 8\n\\begin{tabular}{llllllll}\n cod\\_municipio & vti\\_25 & vti\\_50 & vti\\_75 & vti\\_90 & vti\\_mean & vti\\_std & vti\\_sum\\\\\n <dbl> & <dbl> & <dbl> & <dbl> & <dbl> & <dbl> & <dbl> & <dbl>\\\\\n\\hline\n\t 3500105 & 123200.0 & 1095260 & 15642245 &  37443342 & 1.544425e+07 & 3.920283e+07 &  2888074220\\\\\n\t 3500204 &      0.0 &       0 &        0 &         0 & 0.000000e+00 & 0.000000e+00 &           0\\\\\n\t 3500303 & 660792.5 & 3954765 & 15548948 &  95812840 & 2.184789e+07 & 4.006342e+07 &  3015008350\\\\\n\t 3500402 &  33460.0 &  813000 &  2850960 &  12502680 & 3.447962e+06 & 5.460411e+06 &   210325690\\\\\n\t 3500501 & 159900.0 & 2635780 &  6901320 &  12987276 & 4.357546e+06 & 5.478619e+06 &   248380130\\\\\n\t 3500550 & 645445.0 & 3513825 &  5210262 &   8060988 & 4.043013e+06 & 5.006163e+06 &    97032310\\\\\n\t 3500600 &      5.0 &      10 &       35 &        50 & 2.333333e+01 & 3.214550e+01 &          70\\\\\n\t 3500709 &  31292.5 & 1917530 & 14218145 & 482981970 & 1.024507e+08 & 2.203586e+08 & 18236225890\\\\\n\t 3500758 & 526170.0 & 2528510 &  3573275 &   4753258 & 2.545182e+06 & 2.370814e+06 &    48358450\\\\\n\t 3500808 & 102620.0 & 8276490 & 19966860 &  27470516 & 1.098990e+07 & 1.343922e+07 &   186828240\\\\\n\\end{tabular}\n",
            "text/plain": [
              "   cod_municipio vti_25   vti_50  vti_75   vti_90    vti_mean     vti_std     \n",
              "1  3500105       123200.0 1095260 15642245  37443342 1.544425e+07 3.920283e+07\n",
              "2  3500204            0.0       0        0         0 0.000000e+00 0.000000e+00\n",
              "3  3500303       660792.5 3954765 15548948  95812840 2.184789e+07 4.006342e+07\n",
              "4  3500402        33460.0  813000  2850960  12502680 3.447962e+06 5.460411e+06\n",
              "5  3500501       159900.0 2635780  6901320  12987276 4.357546e+06 5.478619e+06\n",
              "6  3500550       645445.0 3513825  5210262   8060988 4.043013e+06 5.006163e+06\n",
              "7  3500600            5.0      10       35        50 2.333333e+01 3.214550e+01\n",
              "8  3500709        31292.5 1917530 14218145 482981970 1.024507e+08 2.203586e+08\n",
              "9  3500758       526170.0 2528510  3573275   4753258 2.545182e+06 2.370814e+06\n",
              "10 3500808       102620.0 8276490 19966860  27470516 1.098990e+07 1.343922e+07\n",
              "   vti_sum    \n",
              "1   2888074220\n",
              "2            0\n",
              "3   3015008350\n",
              "4    210325690\n",
              "5    248380130\n",
              "6     97032310\n",
              "7           70\n",
              "8  18236225890\n",
              "9     48358450\n",
              "10   186828240"
            ]
          },
          "metadata": {}
        }
      ]
    },
    {
      "cell_type": "code",
      "source": [
        "vti_df_prep %>% head()"
      ],
      "metadata": {
        "colab": {
          "base_uri": "https://localhost:8080/",
          "height": 286
        },
        "id": "1M8zExIJEBm2",
        "outputId": "cd6e717d-8d55-4d46-ca1e-d665a2570ef9"
      },
      "execution_count": 48,
      "outputs": [
        {
          "output_type": "display_data",
          "data": {
            "text/html": [
              "<table class=\"dataframe\">\n",
              "<caption>A tibble: 6 × 3</caption>\n",
              "<thead>\n",
              "\t<tr><th scope=col>cod_municipio</th><th scope=col>ano</th><th scope=col>vti</th></tr>\n",
              "\t<tr><th scope=col>&lt;dbl&gt;</th><th scope=col>&lt;dbl&gt;</th><th scope=col>&lt;dbl&gt;</th></tr>\n",
              "</thead>\n",
              "<tbody>\n",
              "\t<tr><td>3500105</td><td>2003</td><td>8447500</td></tr>\n",
              "\t<tr><td>3500204</td><td>2003</td><td>     NA</td></tr>\n",
              "\t<tr><td>3500303</td><td>2003</td><td>1958440</td></tr>\n",
              "\t<tr><td>3500402</td><td>2003</td><td> 370410</td></tr>\n",
              "\t<tr><td>3500501</td><td>2003</td><td> 130550</td></tr>\n",
              "\t<tr><td>3500550</td><td>2003</td><td>     NA</td></tr>\n",
              "</tbody>\n",
              "</table>\n"
            ],
            "text/markdown": "\nA tibble: 6 × 3\n\n| cod_municipio &lt;dbl&gt; | ano &lt;dbl&gt; | vti &lt;dbl&gt; |\n|---|---|---|\n| 3500105 | 2003 | 8447500 |\n| 3500204 | 2003 |      NA |\n| 3500303 | 2003 | 1958440 |\n| 3500402 | 2003 |  370410 |\n| 3500501 | 2003 |  130550 |\n| 3500550 | 2003 |      NA |\n\n",
            "text/latex": "A tibble: 6 × 3\n\\begin{tabular}{lll}\n cod\\_municipio & ano & vti\\\\\n <dbl> & <dbl> & <dbl>\\\\\n\\hline\n\t 3500105 & 2003 & 8447500\\\\\n\t 3500204 & 2003 &      NA\\\\\n\t 3500303 & 2003 & 1958440\\\\\n\t 3500402 & 2003 &  370410\\\\\n\t 3500501 & 2003 &  130550\\\\\n\t 3500550 & 2003 &      NA\\\\\n\\end{tabular}\n",
            "text/plain": [
              "  cod_municipio ano  vti    \n",
              "1 3500105       2003 8447500\n",
              "2 3500204       2003      NA\n",
              "3 3500303       2003 1958440\n",
              "4 3500402       2003  370410\n",
              "5 3500501       2003  130550\n",
              "6 3500550       2003      NA"
            ]
          },
          "metadata": {}
        }
      ]
    },
    {
      "cell_type": "markdown",
      "source": [
        "## Dados de PIB Municipal\n",
        "\n",
        "https://repositorio.seade.gov.br/dataset/pib-municipal-2002-2020"
      ],
      "metadata": {
        "id": "0AZBSEVvzGgC"
      }
    },
    {
      "cell_type": "code",
      "source": [
        "pib_df_prep %>% head()"
      ],
      "metadata": {
        "colab": {
          "base_uri": "https://localhost:8080/",
          "height": 286
        },
        "id": "U6I5kCk96lms",
        "outputId": "7c15331f-61e0-47e5-9bde-a614894acfad"
      },
      "execution_count": 27,
      "outputs": [
        {
          "output_type": "display_data",
          "data": {
            "text/html": [
              "<table class=\"dataframe\">\n",
              "<caption>A tibble: 6 × 3</caption>\n",
              "<thead>\n",
              "\t<tr><th scope=col>ano</th><th scope=col>cod_municipio</th><th scope=col>pib</th></tr>\n",
              "\t<tr><th scope=col>&lt;dbl&gt;</th><th scope=col>&lt;dbl&gt;</th><th scope=col>&lt;dbl&gt;</th></tr>\n",
              "</thead>\n",
              "<tbody>\n",
              "\t<tr><td>2020</td><td>3500105</td><td>1256561606</td></tr>\n",
              "\t<tr><td>2020</td><td>3500204</td><td> 136701363</td></tr>\n",
              "\t<tr><td>2020</td><td>3500303</td><td>1152443311</td></tr>\n",
              "\t<tr><td>2020</td><td>3500402</td><td> 186768100</td></tr>\n",
              "\t<tr><td>2020</td><td>3500501</td><td> 496876915</td></tr>\n",
              "\t<tr><td>2020</td><td>3500550</td><td> 200526489</td></tr>\n",
              "</tbody>\n",
              "</table>\n"
            ],
            "text/markdown": "\nA tibble: 6 × 3\n\n| ano &lt;dbl&gt; | cod_municipio &lt;dbl&gt; | pib &lt;dbl&gt; |\n|---|---|---|\n| 2020 | 3500105 | 1256561606 |\n| 2020 | 3500204 |  136701363 |\n| 2020 | 3500303 | 1152443311 |\n| 2020 | 3500402 |  186768100 |\n| 2020 | 3500501 |  496876915 |\n| 2020 | 3500550 |  200526489 |\n\n",
            "text/latex": "A tibble: 6 × 3\n\\begin{tabular}{lll}\n ano & cod\\_municipio & pib\\\\\n <dbl> & <dbl> & <dbl>\\\\\n\\hline\n\t 2020 & 3500105 & 1256561606\\\\\n\t 2020 & 3500204 &  136701363\\\\\n\t 2020 & 3500303 & 1152443311\\\\\n\t 2020 & 3500402 &  186768100\\\\\n\t 2020 & 3500501 &  496876915\\\\\n\t 2020 & 3500550 &  200526489\\\\\n\\end{tabular}\n",
            "text/plain": [
              "  ano  cod_municipio pib       \n",
              "1 2020 3500105       1256561606\n",
              "2 2020 3500204        136701363\n",
              "3 2020 3500303       1152443311\n",
              "4 2020 3500402        186768100\n",
              "5 2020 3500501        496876915\n",
              "6 2020 3500550        200526489"
            ]
          },
          "metadata": {}
        }
      ]
    },
    {
      "cell_type": "code",
      "source": [
        "pib_df_prep <- pib_df_raw %>%\n",
        "  filter(Setor == \"PIB\") %>%\n",
        "  transmute(\n",
        "    ano =Ano,\n",
        "    cod_municipio=Cod_Ibge,\n",
        "    pib=as.numeric(gsub(\"\\\\.\", \"\", gsub(\"R\\\\$\\\\s*\", \"\", Valor)))\n",
        "  )\n",
        "\n",
        "pib_df <- column_statistics(pib_df_prep, pib, c(\"cod_municipio\"), wider=FALSE)\n",
        "pib_df %>% head(10)"
      ],
      "metadata": {
        "colab": {
          "base_uri": "https://localhost:8080/",
          "height": 411
        },
        "id": "DFJ5Yw0hHQqh",
        "outputId": "a7105aac-b7eb-4705-ecf6-7335c71a5f80"
      },
      "execution_count": 12,
      "outputs": [
        {
          "output_type": "display_data",
          "data": {
            "text/html": [
              "<table class=\"dataframe\">\n",
              "<caption>A tibble: 10 × 8</caption>\n",
              "<thead>\n",
              "\t<tr><th scope=col>cod_municipio</th><th scope=col>pib_25</th><th scope=col>pib_50</th><th scope=col>pib_75</th><th scope=col>pib_90</th><th scope=col>pib_mean</th><th scope=col>pib_std</th><th scope=col>pib_sum</th></tr>\n",
              "\t<tr><th scope=col>&lt;dbl&gt;</th><th scope=col>&lt;dbl&gt;</th><th scope=col>&lt;dbl&gt;</th><th scope=col>&lt;dbl&gt;</th><th scope=col>&lt;dbl&gt;</th><th scope=col>&lt;dbl&gt;</th><th scope=col>&lt;dbl&gt;</th><th scope=col>&lt;dbl&gt;</th></tr>\n",
              "</thead>\n",
              "<tbody>\n",
              "\t<tr><td>3500105</td><td>479619778</td><td> 683689223</td><td>1010399754</td><td>1094954723</td><td> 723000422</td><td>310597392</td><td>13737008017</td></tr>\n",
              "\t<tr><td>3500204</td><td> 49390214</td><td>  65982041</td><td>  84302147</td><td> 103230618</td><td>  68078851</td><td> 29255981</td><td> 1293498170</td></tr>\n",
              "\t<tr><td>3500303</td><td>469084776</td><td> 573701851</td><td> 832843378</td><td> 987435389</td><td> 639862753</td><td>262310590</td><td>12157392298</td></tr>\n",
              "\t<tr><td>3500402</td><td> 50829506</td><td>  96964454</td><td> 136826988</td><td> 167896540</td><td>  98814831</td><td> 50857447</td><td> 1877481798</td></tr>\n",
              "\t<tr><td>3500501</td><td>162667004</td><td> 267588596</td><td> 455312394</td><td> 491745877</td><td> 295264746</td><td>150449662</td><td> 5610030171</td></tr>\n",
              "\t<tr><td>3500550</td><td> 60647537</td><td> 114127096</td><td> 144809176</td><td> 168383145</td><td> 108062025</td><td> 49424565</td><td> 2053178468</td></tr>\n",
              "\t<tr><td>3500600</td><td> 49535298</td><td>  71429274</td><td> 122665220</td><td> 136323724</td><td>  85213660</td><td> 39196033</td><td> 1619059544</td></tr>\n",
              "\t<tr><td>3500709</td><td>916413208</td><td>1742627417</td><td>2076952300</td><td>2223883326</td><td>1534499093</td><td>682372880</td><td>29155482762</td></tr>\n",
              "\t<tr><td>3500758</td><td> 42765394</td><td>  61384825</td><td>  88345732</td><td> 103358515</td><td>  65024474</td><td> 29206930</td><td> 1235465010</td></tr>\n",
              "\t<tr><td>3500808</td><td> 24160752</td><td>  38980278</td><td>  75794702</td><td>  83867055</td><td>  50717163</td><td> 29295348</td><td>  963626101</td></tr>\n",
              "</tbody>\n",
              "</table>\n"
            ],
            "text/markdown": "\nA tibble: 10 × 8\n\n| cod_municipio &lt;dbl&gt; | pib_25 &lt;dbl&gt; | pib_50 &lt;dbl&gt; | pib_75 &lt;dbl&gt; | pib_90 &lt;dbl&gt; | pib_mean &lt;dbl&gt; | pib_std &lt;dbl&gt; | pib_sum &lt;dbl&gt; |\n|---|---|---|---|---|---|---|---|\n| 3500105 | 479619778 |  683689223 | 1010399754 | 1094954723 |  723000422 | 310597392 | 13737008017 |\n| 3500204 |  49390214 |   65982041 |   84302147 |  103230618 |   68078851 |  29255981 |  1293498170 |\n| 3500303 | 469084776 |  573701851 |  832843378 |  987435389 |  639862753 | 262310590 | 12157392298 |\n| 3500402 |  50829506 |   96964454 |  136826988 |  167896540 |   98814831 |  50857447 |  1877481798 |\n| 3500501 | 162667004 |  267588596 |  455312394 |  491745877 |  295264746 | 150449662 |  5610030171 |\n| 3500550 |  60647537 |  114127096 |  144809176 |  168383145 |  108062025 |  49424565 |  2053178468 |\n| 3500600 |  49535298 |   71429274 |  122665220 |  136323724 |   85213660 |  39196033 |  1619059544 |\n| 3500709 | 916413208 | 1742627417 | 2076952300 | 2223883326 | 1534499093 | 682372880 | 29155482762 |\n| 3500758 |  42765394 |   61384825 |   88345732 |  103358515 |   65024474 |  29206930 |  1235465010 |\n| 3500808 |  24160752 |   38980278 |   75794702 |   83867055 |   50717163 |  29295348 |   963626101 |\n\n",
            "text/latex": "A tibble: 10 × 8\n\\begin{tabular}{llllllll}\n cod\\_municipio & pib\\_25 & pib\\_50 & pib\\_75 & pib\\_90 & pib\\_mean & pib\\_std & pib\\_sum\\\\\n <dbl> & <dbl> & <dbl> & <dbl> & <dbl> & <dbl> & <dbl> & <dbl>\\\\\n\\hline\n\t 3500105 & 479619778 &  683689223 & 1010399754 & 1094954723 &  723000422 & 310597392 & 13737008017\\\\\n\t 3500204 &  49390214 &   65982041 &   84302147 &  103230618 &   68078851 &  29255981 &  1293498170\\\\\n\t 3500303 & 469084776 &  573701851 &  832843378 &  987435389 &  639862753 & 262310590 & 12157392298\\\\\n\t 3500402 &  50829506 &   96964454 &  136826988 &  167896540 &   98814831 &  50857447 &  1877481798\\\\\n\t 3500501 & 162667004 &  267588596 &  455312394 &  491745877 &  295264746 & 150449662 &  5610030171\\\\\n\t 3500550 &  60647537 &  114127096 &  144809176 &  168383145 &  108062025 &  49424565 &  2053178468\\\\\n\t 3500600 &  49535298 &   71429274 &  122665220 &  136323724 &   85213660 &  39196033 &  1619059544\\\\\n\t 3500709 & 916413208 & 1742627417 & 2076952300 & 2223883326 & 1534499093 & 682372880 & 29155482762\\\\\n\t 3500758 &  42765394 &   61384825 &   88345732 &  103358515 &   65024474 &  29206930 &  1235465010\\\\\n\t 3500808 &  24160752 &   38980278 &   75794702 &   83867055 &   50717163 &  29295348 &   963626101\\\\\n\\end{tabular}\n",
            "text/plain": [
              "   cod_municipio pib_25    pib_50     pib_75     pib_90     pib_mean  \n",
              "1  3500105       479619778  683689223 1010399754 1094954723  723000422\n",
              "2  3500204        49390214   65982041   84302147  103230618   68078851\n",
              "3  3500303       469084776  573701851  832843378  987435389  639862753\n",
              "4  3500402        50829506   96964454  136826988  167896540   98814831\n",
              "5  3500501       162667004  267588596  455312394  491745877  295264746\n",
              "6  3500550        60647537  114127096  144809176  168383145  108062025\n",
              "7  3500600        49535298   71429274  122665220  136323724   85213660\n",
              "8  3500709       916413208 1742627417 2076952300 2223883326 1534499093\n",
              "9  3500758        42765394   61384825   88345732  103358515   65024474\n",
              "10 3500808        24160752   38980278   75794702   83867055   50717163\n",
              "   pib_std   pib_sum    \n",
              "1  310597392 13737008017\n",
              "2   29255981  1293498170\n",
              "3  262310590 12157392298\n",
              "4   50857447  1877481798\n",
              "5  150449662  5610030171\n",
              "6   49424565  2053178468\n",
              "7   39196033  1619059544\n",
              "8  682372880 29155482762\n",
              "9   29206930  1235465010\n",
              "10  29295348   963626101"
            ]
          },
          "metadata": {}
        }
      ]
    },
    {
      "cell_type": "markdown",
      "source": [
        "## Dados de Exportação\n",
        "\n",
        "https://repositorio.seade.gov.br/dataset/comercio-exterior"
      ],
      "metadata": {
        "id": "i1xyFZblzKn3"
      }
    },
    {
      "cell_type": "code",
      "source": [
        "exp_df_prep <- exp_df_raw %>%\n",
        "  group_by(CO_MUN, CO_ANO) %>%\n",
        "  summarise(exp=sum(VALOR_FOB), .groups = \"drop\") %>%\n",
        "  select(\n",
        "    ano=CO_ANO,\n",
        "    cod_municipio=CO_MUN,\n",
        "    exp\n",
        "  )\n",
        "\n",
        "exp_df <- column_statistics(exp_df_prep, exp, c(\"cod_municipio\"), wider=FALSE)\n",
        "exp_df %>% head(10)"
      ],
      "metadata": {
        "colab": {
          "base_uri": "https://localhost:8080/",
          "height": 411
        },
        "id": "YxOUn1eHHqHd",
        "outputId": "59a06049-1c37-4344-c0fd-247ae257c00d"
      },
      "execution_count": 13,
      "outputs": [
        {
          "output_type": "display_data",
          "data": {
            "text/html": [
              "<table class=\"dataframe\">\n",
              "<caption>A tibble: 10 × 8</caption>\n",
              "<thead>\n",
              "\t<tr><th scope=col>cod_municipio</th><th scope=col>exp_25</th><th scope=col>exp_50</th><th scope=col>exp_75</th><th scope=col>exp_90</th><th scope=col>exp_mean</th><th scope=col>exp_std</th><th scope=col>exp_sum</th></tr>\n",
              "\t<tr><th scope=col>&lt;dbl&gt;</th><th scope=col>&lt;dbl&gt;</th><th scope=col>&lt;dbl&gt;</th><th scope=col>&lt;dbl&gt;</th><th scope=col>&lt;dbl&gt;</th><th scope=col>&lt;dbl&gt;</th><th scope=col>&lt;dbl&gt;</th><th scope=col>&lt;dbl&gt;</th></tr>\n",
              "</thead>\n",
              "<tbody>\n",
              "\t<tr><td>1100015</td><td>  119158.00</td><td>  424981</td><td>  657014</td><td>  923033.6</td><td>  465961.00</td><td> 433737.26</td><td>  2329805</td></tr>\n",
              "\t<tr><td>1100023</td><td> 4533642.00</td><td> 5425779</td><td> 5770860</td><td> 7809213.0</td><td> 5675968.00</td><td>2144034.40</td><td> 28379840</td></tr>\n",
              "\t<tr><td>1100049</td><td>   90038.00</td><td>  296989</td><td> 4799660</td><td> 7782333.8</td><td> 3008768.20</td><td>4282092.81</td><td> 15043841</td></tr>\n",
              "\t<tr><td>1100056</td><td>   26064.75</td><td>   34966</td><td>   52269</td><td>   72792.6</td><td>   43367.75</td><td>  30336.69</td><td>   173471</td></tr>\n",
              "\t<tr><td>1100080</td><td>   33654.00</td><td>   33654</td><td>   33654</td><td>   33654.0</td><td>   33654.00</td><td>      0.00</td><td>    33654</td></tr>\n",
              "\t<tr><td>1100098</td><td> 1279856.00</td><td> 2016172</td><td> 2159132</td><td> 2676198.8</td><td> 1729154.40</td><td>1068837.36</td><td>  8645772</td></tr>\n",
              "\t<tr><td>1100106</td><td> 5955406.00</td><td> 6428817</td><td> 6926681</td><td> 7226516.0</td><td> 5794816.20</td><td>2063409.49</td><td> 28974081</td></tr>\n",
              "\t<tr><td>1100114</td><td> 1584257.00</td><td> 2941276</td><td> 5877646</td><td> 6761846.8</td><td> 3599023.80</td><td>2959837.58</td><td> 17995119</td></tr>\n",
              "\t<tr><td>1100122</td><td>21841837.00</td><td>23810396</td><td>25204600</td><td>26310164.2</td><td>21055135.40</td><td>7883074.71</td><td>105275677</td></tr>\n",
              "\t<tr><td>1100130</td><td> 1290174.00</td><td> 1339097</td><td> 1882246</td><td> 3003964.6</td><td> 1863391.20</td><td>1098348.78</td><td>  9316956</td></tr>\n",
              "</tbody>\n",
              "</table>\n"
            ],
            "text/markdown": "\nA tibble: 10 × 8\n\n| cod_municipio &lt;dbl&gt; | exp_25 &lt;dbl&gt; | exp_50 &lt;dbl&gt; | exp_75 &lt;dbl&gt; | exp_90 &lt;dbl&gt; | exp_mean &lt;dbl&gt; | exp_std &lt;dbl&gt; | exp_sum &lt;dbl&gt; |\n|---|---|---|---|---|---|---|---|\n| 1100015 |   119158.00 |   424981 |   657014 |   923033.6 |   465961.00 |  433737.26 |   2329805 |\n| 1100023 |  4533642.00 |  5425779 |  5770860 |  7809213.0 |  5675968.00 | 2144034.40 |  28379840 |\n| 1100049 |    90038.00 |   296989 |  4799660 |  7782333.8 |  3008768.20 | 4282092.81 |  15043841 |\n| 1100056 |    26064.75 |    34966 |    52269 |    72792.6 |    43367.75 |   30336.69 |    173471 |\n| 1100080 |    33654.00 |    33654 |    33654 |    33654.0 |    33654.00 |       0.00 |     33654 |\n| 1100098 |  1279856.00 |  2016172 |  2159132 |  2676198.8 |  1729154.40 | 1068837.36 |   8645772 |\n| 1100106 |  5955406.00 |  6428817 |  6926681 |  7226516.0 |  5794816.20 | 2063409.49 |  28974081 |\n| 1100114 |  1584257.00 |  2941276 |  5877646 |  6761846.8 |  3599023.80 | 2959837.58 |  17995119 |\n| 1100122 | 21841837.00 | 23810396 | 25204600 | 26310164.2 | 21055135.40 | 7883074.71 | 105275677 |\n| 1100130 |  1290174.00 |  1339097 |  1882246 |  3003964.6 |  1863391.20 | 1098348.78 |   9316956 |\n\n",
            "text/latex": "A tibble: 10 × 8\n\\begin{tabular}{llllllll}\n cod\\_municipio & exp\\_25 & exp\\_50 & exp\\_75 & exp\\_90 & exp\\_mean & exp\\_std & exp\\_sum\\\\\n <dbl> & <dbl> & <dbl> & <dbl> & <dbl> & <dbl> & <dbl> & <dbl>\\\\\n\\hline\n\t 1100015 &   119158.00 &   424981 &   657014 &   923033.6 &   465961.00 &  433737.26 &   2329805\\\\\n\t 1100023 &  4533642.00 &  5425779 &  5770860 &  7809213.0 &  5675968.00 & 2144034.40 &  28379840\\\\\n\t 1100049 &    90038.00 &   296989 &  4799660 &  7782333.8 &  3008768.20 & 4282092.81 &  15043841\\\\\n\t 1100056 &    26064.75 &    34966 &    52269 &    72792.6 &    43367.75 &   30336.69 &    173471\\\\\n\t 1100080 &    33654.00 &    33654 &    33654 &    33654.0 &    33654.00 &       0.00 &     33654\\\\\n\t 1100098 &  1279856.00 &  2016172 &  2159132 &  2676198.8 &  1729154.40 & 1068837.36 &   8645772\\\\\n\t 1100106 &  5955406.00 &  6428817 &  6926681 &  7226516.0 &  5794816.20 & 2063409.49 &  28974081\\\\\n\t 1100114 &  1584257.00 &  2941276 &  5877646 &  6761846.8 &  3599023.80 & 2959837.58 &  17995119\\\\\n\t 1100122 & 21841837.00 & 23810396 & 25204600 & 26310164.2 & 21055135.40 & 7883074.71 & 105275677\\\\\n\t 1100130 &  1290174.00 &  1339097 &  1882246 &  3003964.6 &  1863391.20 & 1098348.78 &   9316956\\\\\n\\end{tabular}\n",
            "text/plain": [
              "   cod_municipio exp_25      exp_50   exp_75   exp_90     exp_mean   \n",
              "1  1100015         119158.00   424981   657014   923033.6   465961.00\n",
              "2  1100023        4533642.00  5425779  5770860  7809213.0  5675968.00\n",
              "3  1100049          90038.00   296989  4799660  7782333.8  3008768.20\n",
              "4  1100056          26064.75    34966    52269    72792.6    43367.75\n",
              "5  1100080          33654.00    33654    33654    33654.0    33654.00\n",
              "6  1100098        1279856.00  2016172  2159132  2676198.8  1729154.40\n",
              "7  1100106        5955406.00  6428817  6926681  7226516.0  5794816.20\n",
              "8  1100114        1584257.00  2941276  5877646  6761846.8  3599023.80\n",
              "9  1100122       21841837.00 23810396 25204600 26310164.2 21055135.40\n",
              "10 1100130        1290174.00  1339097  1882246  3003964.6  1863391.20\n",
              "   exp_std    exp_sum  \n",
              "1   433737.26   2329805\n",
              "2  2144034.40  28379840\n",
              "3  4282092.81  15043841\n",
              "4    30336.69    173471\n",
              "5        0.00     33654\n",
              "6  1068837.36   8645772\n",
              "7  2063409.49  28974081\n",
              "8  2959837.58  17995119\n",
              "9  7883074.71 105275677\n",
              "10 1098348.78   9316956"
            ]
          },
          "metadata": {}
        }
      ]
    },
    {
      "cell_type": "code",
      "source": [
        "exp_df_prep %>% head()"
      ],
      "metadata": {
        "colab": {
          "base_uri": "https://localhost:8080/",
          "height": 286
        },
        "id": "mzH0wtJJLfiw",
        "outputId": "41b0460d-2c49-4fb0-e706-9e295943b920"
      },
      "execution_count": 50,
      "outputs": [
        {
          "output_type": "display_data",
          "data": {
            "text/html": [
              "<table class=\"dataframe\">\n",
              "<caption>A tibble: 6 × 3</caption>\n",
              "<thead>\n",
              "\t<tr><th scope=col>ano</th><th scope=col>cod_municipio</th><th scope=col>exp</th></tr>\n",
              "\t<tr><th scope=col>&lt;dbl&gt;</th><th scope=col>&lt;dbl&gt;</th><th scope=col>&lt;dbl&gt;</th></tr>\n",
              "</thead>\n",
              "<tbody>\n",
              "\t<tr><td>2000</td><td>1100015</td><td>  28272</td></tr>\n",
              "\t<tr><td>2001</td><td>1100015</td><td> 119158</td></tr>\n",
              "\t<tr><td>2002</td><td>1100015</td><td> 657014</td></tr>\n",
              "\t<tr><td>2003</td><td>1100015</td><td>1100380</td></tr>\n",
              "\t<tr><td>2004</td><td>1100015</td><td> 424981</td></tr>\n",
              "\t<tr><td>2000</td><td>1100023</td><td>5425779</td></tr>\n",
              "</tbody>\n",
              "</table>\n"
            ],
            "text/markdown": "\nA tibble: 6 × 3\n\n| ano &lt;dbl&gt; | cod_municipio &lt;dbl&gt; | exp &lt;dbl&gt; |\n|---|---|---|\n| 2000 | 1100015 |   28272 |\n| 2001 | 1100015 |  119158 |\n| 2002 | 1100015 |  657014 |\n| 2003 | 1100015 | 1100380 |\n| 2004 | 1100015 |  424981 |\n| 2000 | 1100023 | 5425779 |\n\n",
            "text/latex": "A tibble: 6 × 3\n\\begin{tabular}{lll}\n ano & cod\\_municipio & exp\\\\\n <dbl> & <dbl> & <dbl>\\\\\n\\hline\n\t 2000 & 1100015 &   28272\\\\\n\t 2001 & 1100015 &  119158\\\\\n\t 2002 & 1100015 &  657014\\\\\n\t 2003 & 1100015 & 1100380\\\\\n\t 2004 & 1100015 &  424981\\\\\n\t 2000 & 1100023 & 5425779\\\\\n\\end{tabular}\n",
            "text/plain": [
              "  ano  cod_municipio exp    \n",
              "1 2000 1100015         28272\n",
              "2 2001 1100015        119158\n",
              "3 2002 1100015        657014\n",
              "4 2003 1100015       1100380\n",
              "5 2004 1100015        424981\n",
              "6 2000 1100023       5425779"
            ]
          },
          "metadata": {}
        }
      ]
    },
    {
      "cell_type": "code",
      "source": [
        "distinct_anos <- exp_df_prep %>%\n",
        "  distinct(ano)\n",
        "distinct_anos"
      ],
      "metadata": {
        "colab": {
          "base_uri": "https://localhost:8080/",
          "height": 303
        },
        "id": "MKpNw4AgRjil",
        "outputId": "66fb55ea-c6ad-4203-97d8-b00f90f36811"
      },
      "execution_count": 68,
      "outputs": [
        {
          "output_type": "display_data",
          "data": {
            "text/html": [
              "<table class=\"dataframe\">\n",
              "<caption>A tibble: 6 × 1</caption>\n",
              "<thead>\n",
              "\t<tr><th scope=col>ano</th></tr>\n",
              "\t<tr><th scope=col>&lt;dbl&gt;</th></tr>\n",
              "</thead>\n",
              "<tbody>\n",
              "\t<tr><td>2000</td></tr>\n",
              "\t<tr><td>2001</td></tr>\n",
              "\t<tr><td>2002</td></tr>\n",
              "\t<tr><td>2003</td></tr>\n",
              "\t<tr><td>2004</td></tr>\n",
              "\t<tr><td>2005</td></tr>\n",
              "</tbody>\n",
              "</table>\n"
            ],
            "text/markdown": "\nA tibble: 6 × 1\n\n| ano &lt;dbl&gt; |\n|---|\n| 2000 |\n| 2001 |\n| 2002 |\n| 2003 |\n| 2004 |\n| 2005 |\n\n",
            "text/latex": "A tibble: 6 × 1\n\\begin{tabular}{l}\n ano\\\\\n <dbl>\\\\\n\\hline\n\t 2000\\\\\n\t 2001\\\\\n\t 2002\\\\\n\t 2003\\\\\n\t 2004\\\\\n\t 2005\\\\\n\\end{tabular}\n",
            "text/plain": [
              "  ano \n",
              "1 2000\n",
              "2 2001\n",
              "3 2002\n",
              "4 2003\n",
              "5 2004\n",
              "6 2005"
            ]
          },
          "metadata": {}
        }
      ]
    },
    {
      "cell_type": "markdown",
      "source": [
        "## Dados de Educação\n",
        "\n",
        "https://repositorio.seade.gov.br/dataset/educacao-basica-painel"
      ],
      "metadata": {
        "id": "Ss6wGCTo5zIG"
      }
    },
    {
      "cell_type": "code",
      "source": [
        "edu_df_prep <- edu_df_raw %>%\n",
        "  pivot_longer(\n",
        "    cols = starts_with(\"IDEB\"),\n",
        "    names_to = \"IDEB_Year\",\n",
        "    values_to = \"IDEB\"\n",
        "  ) %>%\n",
        "  select(Cod, Anos, IDEB_Year, IDEB)\n",
        "\n",
        "\n",
        "# Assuming your dataframe is called df\n",
        "edu_df_prep <- edu_df_prep %>%\n",
        "  mutate(IDEB_Year = str_remove(IDEB_Year, \"IDEB\\\\s\")) %>%  # remove 'IDEB ' prefix\n",
        "  group_by(Cod, IDEB_Year) %>%\n",
        "  summarise(IDEB_Media = round(mean(IDEB, na.rm = TRUE),1), .groups = 'drop') %>% # calculate mean\n",
        "  rename(cod_municipio = Cod) %>%\n",
        "  rename(ano = IDEB_Year)\n",
        "\n",
        "# Mudando o tipo da coluna 'ano' para numérico\n",
        "edu_df_prep$ano <- as.numeric(edu_df_prep$ano)\n",
        "\n",
        "edu_df_prep %>% head()"
      ],
      "metadata": {
        "colab": {
          "base_uri": "https://localhost:8080/",
          "height": 286
        },
        "id": "GfEAms7u64LH",
        "outputId": "99280e74-16dc-4179-b64d-363d72694e35"
      },
      "execution_count": 63,
      "outputs": [
        {
          "output_type": "display_data",
          "data": {
            "text/html": [
              "<table class=\"dataframe\">\n",
              "<caption>A tibble: 6 × 3</caption>\n",
              "<thead>\n",
              "\t<tr><th scope=col>cod_municipio</th><th scope=col>ano</th><th scope=col>IDEB_Media</th></tr>\n",
              "\t<tr><th scope=col>&lt;dbl&gt;</th><th scope=col>&lt;dbl&gt;</th><th scope=col>&lt;dbl&gt;</th></tr>\n",
              "</thead>\n",
              "<tbody>\n",
              "\t<tr><td>3500105</td><td>2015</td><td>35.5</td></tr>\n",
              "\t<tr><td>3500105</td><td>2017</td><td>54.0</td></tr>\n",
              "\t<tr><td>3500105</td><td>2019</td><td>56.3</td></tr>\n",
              "\t<tr><td>3500105</td><td>2021</td><td>54.0</td></tr>\n",
              "\t<tr><td>3500105</td><td>2023</td><td>55.3</td></tr>\n",
              "\t<tr><td>3500204</td><td>2015</td><td>53.0</td></tr>\n",
              "</tbody>\n",
              "</table>\n"
            ],
            "text/markdown": "\nA tibble: 6 × 3\n\n| cod_municipio &lt;dbl&gt; | ano &lt;dbl&gt; | IDEB_Media &lt;dbl&gt; |\n|---|---|---|\n| 3500105 | 2015 | 35.5 |\n| 3500105 | 2017 | 54.0 |\n| 3500105 | 2019 | 56.3 |\n| 3500105 | 2021 | 54.0 |\n| 3500105 | 2023 | 55.3 |\n| 3500204 | 2015 | 53.0 |\n\n",
            "text/latex": "A tibble: 6 × 3\n\\begin{tabular}{lll}\n cod\\_municipio & ano & IDEB\\_Media\\\\\n <dbl> & <dbl> & <dbl>\\\\\n\\hline\n\t 3500105 & 2015 & 35.5\\\\\n\t 3500105 & 2017 & 54.0\\\\\n\t 3500105 & 2019 & 56.3\\\\\n\t 3500105 & 2021 & 54.0\\\\\n\t 3500105 & 2023 & 55.3\\\\\n\t 3500204 & 2015 & 53.0\\\\\n\\end{tabular}\n",
            "text/plain": [
              "  cod_municipio ano  IDEB_Media\n",
              "1 3500105       2015 35.5      \n",
              "2 3500105       2017 54.0      \n",
              "3 3500105       2019 56.3      \n",
              "4 3500105       2021 54.0      \n",
              "5 3500105       2023 55.3      \n",
              "6 3500204       2015 53.0      "
            ]
          },
          "metadata": {}
        }
      ]
    },
    {
      "cell_type": "code",
      "source": [
        "str(edu_df_prep)"
      ],
      "metadata": {
        "colab": {
          "base_uri": "https://localhost:8080/"
        },
        "id": "s2sVHl5JMFpM",
        "outputId": "12690dd2-15da-4dce-d9bd-22787fece852"
      },
      "execution_count": 59,
      "outputs": [
        {
          "output_type": "stream",
          "name": "stdout",
          "text": [
            "tibble [3,230 × 3] (S3: tbl_df/tbl/data.frame)\n",
            " $ cod_municipio: num [1:3230] 3500105 3500105 3500105 3500105 3500105 ...\n",
            " $ ano          : num [1:3230] 2015 2017 2019 2021 2023 ...\n",
            " $ IDEB_Media   : num [1:3230] 35.5 54 56.3 54 55.3 53 53 51.3 53.7 58.3 ...\n"
          ]
        }
      ]
    },
    {
      "cell_type": "code",
      "source": [
        "# Estatísticas de educação\n",
        "edu_df <- column_statistics(edu_df_prep, IDEB_Media, c(\"cod_municipio\"), wider=FALSE)\n",
        "edu_df %>% head()"
      ],
      "metadata": {
        "colab": {
          "base_uri": "https://localhost:8080/",
          "height": 306
        },
        "id": "DoVWSZ8P-jLN",
        "outputId": "d698889d-8b59-431d-fe32-35e1e0824c11"
      },
      "execution_count": 26,
      "outputs": [
        {
          "output_type": "display_data",
          "data": {
            "text/html": [
              "<table class=\"dataframe\">\n",
              "<caption>A tibble: 6 × 8</caption>\n",
              "<thead>\n",
              "\t<tr><th scope=col>cod_municipio</th><th scope=col>IDEB_Media_25</th><th scope=col>IDEB_Media_50</th><th scope=col>IDEB_Media_75</th><th scope=col>IDEB_Media_90</th><th scope=col>IDEB_Media_mean</th><th scope=col>IDEB_Media_std</th><th scope=col>IDEB_Media_sum</th></tr>\n",
              "\t<tr><th scope=col>&lt;dbl&gt;</th><th scope=col>&lt;dbl&gt;</th><th scope=col>&lt;dbl&gt;</th><th scope=col>&lt;dbl&gt;</th><th scope=col>&lt;dbl&gt;</th><th scope=col>&lt;dbl&gt;</th><th scope=col>&lt;dbl&gt;</th><th scope=col>&lt;dbl&gt;</th></tr>\n",
              "</thead>\n",
              "<tbody>\n",
              "\t<tr><td>3500105</td><td>54.0</td><td>54.0</td><td>55.3</td><td>55.90</td><td>51.02</td><td>8.729662</td><td>255.1</td></tr>\n",
              "\t<tr><td>3500204</td><td>53.0</td><td>53.0</td><td>53.7</td><td>56.46</td><td>53.86</td><td>2.634957</td><td>269.3</td></tr>\n",
              "\t<tr><td>3500303</td><td>36.0</td><td>49.6</td><td>51.3</td><td>51.42</td><td>44.66</td><td>8.448846</td><td>223.3</td></tr>\n",
              "\t<tr><td>3500402</td><td>56.7</td><td>57.0</td><td>57.0</td><td>57.90</td><td>56.70</td><td>1.514926</td><td>283.5</td></tr>\n",
              "\t<tr><td>3500501</td><td>49.5</td><td>51.6</td><td>52.8</td><td>55.14</td><td>51.30</td><td>3.996874</td><td>256.5</td></tr>\n",
              "\t<tr><td>3500550</td><td>55.0</td><td>57.3</td><td>60.5</td><td>62.30</td><td>58.20</td><td>3.764306</td><td>291.0</td></tr>\n",
              "</tbody>\n",
              "</table>\n"
            ],
            "text/markdown": "\nA tibble: 6 × 8\n\n| cod_municipio &lt;dbl&gt; | IDEB_Media_25 &lt;dbl&gt; | IDEB_Media_50 &lt;dbl&gt; | IDEB_Media_75 &lt;dbl&gt; | IDEB_Media_90 &lt;dbl&gt; | IDEB_Media_mean &lt;dbl&gt; | IDEB_Media_std &lt;dbl&gt; | IDEB_Media_sum &lt;dbl&gt; |\n|---|---|---|---|---|---|---|---|\n| 3500105 | 54.0 | 54.0 | 55.3 | 55.90 | 51.02 | 8.729662 | 255.1 |\n| 3500204 | 53.0 | 53.0 | 53.7 | 56.46 | 53.86 | 2.634957 | 269.3 |\n| 3500303 | 36.0 | 49.6 | 51.3 | 51.42 | 44.66 | 8.448846 | 223.3 |\n| 3500402 | 56.7 | 57.0 | 57.0 | 57.90 | 56.70 | 1.514926 | 283.5 |\n| 3500501 | 49.5 | 51.6 | 52.8 | 55.14 | 51.30 | 3.996874 | 256.5 |\n| 3500550 | 55.0 | 57.3 | 60.5 | 62.30 | 58.20 | 3.764306 | 291.0 |\n\n",
            "text/latex": "A tibble: 6 × 8\n\\begin{tabular}{llllllll}\n cod\\_municipio & IDEB\\_Media\\_25 & IDEB\\_Media\\_50 & IDEB\\_Media\\_75 & IDEB\\_Media\\_90 & IDEB\\_Media\\_mean & IDEB\\_Media\\_std & IDEB\\_Media\\_sum\\\\\n <dbl> & <dbl> & <dbl> & <dbl> & <dbl> & <dbl> & <dbl> & <dbl>\\\\\n\\hline\n\t 3500105 & 54.0 & 54.0 & 55.3 & 55.90 & 51.02 & 8.729662 & 255.1\\\\\n\t 3500204 & 53.0 & 53.0 & 53.7 & 56.46 & 53.86 & 2.634957 & 269.3\\\\\n\t 3500303 & 36.0 & 49.6 & 51.3 & 51.42 & 44.66 & 8.448846 & 223.3\\\\\n\t 3500402 & 56.7 & 57.0 & 57.0 & 57.90 & 56.70 & 1.514926 & 283.5\\\\\n\t 3500501 & 49.5 & 51.6 & 52.8 & 55.14 & 51.30 & 3.996874 & 256.5\\\\\n\t 3500550 & 55.0 & 57.3 & 60.5 & 62.30 & 58.20 & 3.764306 & 291.0\\\\\n\\end{tabular}\n",
            "text/plain": [
              "  cod_municipio IDEB_Media_25 IDEB_Media_50 IDEB_Media_75 IDEB_Media_90\n",
              "1 3500105       54.0          54.0          55.3          55.90        \n",
              "2 3500204       53.0          53.0          53.7          56.46        \n",
              "3 3500303       36.0          49.6          51.3          51.42        \n",
              "4 3500402       56.7          57.0          57.0          57.90        \n",
              "5 3500501       49.5          51.6          52.8          55.14        \n",
              "6 3500550       55.0          57.3          60.5          62.30        \n",
              "  IDEB_Media_mean IDEB_Media_std IDEB_Media_sum\n",
              "1 51.02           8.729662       255.1         \n",
              "2 53.86           2.634957       269.3         \n",
              "3 44.66           8.448846       223.3         \n",
              "4 56.70           1.514926       283.5         \n",
              "5 51.30           3.996874       256.5         \n",
              "6 58.20           3.764306       291.0         "
            ]
          },
          "metadata": {}
        }
      ]
    },
    {
      "cell_type": "markdown",
      "source": [
        "## Dados de Saúde\n",
        "\n",
        "https://repositorio.seade.gov.br/dataset/saude-painel"
      ],
      "metadata": {
        "id": "3YOEEJfd56VO"
      }
    },
    {
      "cell_type": "code",
      "source": [
        "sau_df_raw %>%head()"
      ],
      "metadata": {
        "colab": {
          "base_uri": "https://localhost:8080/",
          "height": 338
        },
        "id": "FQ_zITRG5-S1",
        "outputId": "742d7d7c-2887-49d7-88e6-a74627efb197"
      },
      "execution_count": 34,
      "outputs": [
        {
          "output_type": "display_data",
          "data": {
            "text/html": [
              "<table class=\"dataframe\">\n",
              "<caption>A tibble: 6 × 9</caption>\n",
              "<thead>\n",
              "\t<tr><th scope=col>cod_ibge</th><th scope=col>localidades</th><th scope=col>periodos</th><th scope=col>leitos_total</th><th scope=col>leitos_hab</th><th scope=col>leitos sus</th><th scope=col>leitos_sus_hab</th><th scope=col>leitos não sus</th><th scope=col>leitos_naosus_hab</th></tr>\n",
              "\t<tr><th scope=col>&lt;dbl&gt;</th><th scope=col>&lt;chr&gt;</th><th scope=col>&lt;dbl&gt;</th><th scope=col>&lt;dbl&gt;</th><th scope=col>&lt;chr&gt;</th><th scope=col>&lt;dbl&gt;</th><th scope=col>&lt;chr&gt;</th><th scope=col>&lt;dbl&gt;</th><th scope=col>&lt;chr&gt;</th></tr>\n",
              "</thead>\n",
              "<tbody>\n",
              "\t<tr><td>3500105</td><td>Adamantina      </td><td>2024</td><td>195</td><td>5,618,625,022</td><td>138</td><td>3,976,257,708</td><td>57</td><td>1,642,367,314</td></tr>\n",
              "\t<tr><td>3500303</td><td>Aguaí           </td><td>2024</td><td> 24</td><td>0,74941452   </td><td> 24</td><td>0,74941452   </td><td> 0</td><td>0            </td></tr>\n",
              "\t<tr><td>3500501</td><td>Águas de Lindóia</td><td>2024</td><td> 42</td><td>2,341,528,684</td><td> 30</td><td>1,672,520,488</td><td>12</td><td>0,669008195  </td></tr>\n",
              "\t<tr><td>3500709</td><td>Agudos          </td><td>2024</td><td> 54</td><td>1,427,099,025</td><td> 38</td><td>1,004,254,869</td><td>16</td><td>0,422844156  </td></tr>\n",
              "\t<tr><td>3501004</td><td>Altinópolis     </td><td>2024</td><td> 21</td><td>1,244,223,249</td><td> 19</td><td>1,125,725,797</td><td> 2</td><td>0,118497452  </td></tr>\n",
              "\t<tr><td>3501103</td><td>Alto Alegre     </td><td>2024</td><td> 22</td><td>5,790,997,631</td><td> 19</td><td>5,001,316,136</td><td> 3</td><td>0,789681495  </td></tr>\n",
              "</tbody>\n",
              "</table>\n"
            ],
            "text/markdown": "\nA tibble: 6 × 9\n\n| cod_ibge &lt;dbl&gt; | localidades &lt;chr&gt; | periodos &lt;dbl&gt; | leitos_total &lt;dbl&gt; | leitos_hab &lt;chr&gt; | leitos sus &lt;dbl&gt; | leitos_sus_hab &lt;chr&gt; | leitos não sus &lt;dbl&gt; | leitos_naosus_hab &lt;chr&gt; |\n|---|---|---|---|---|---|---|---|---|\n| 3500105 | Adamantina       | 2024 | 195 | 5,618,625,022 | 138 | 3,976,257,708 | 57 | 1,642,367,314 |\n| 3500303 | Aguaí            | 2024 |  24 | 0,74941452    |  24 | 0,74941452    |  0 | 0             |\n| 3500501 | Águas de Lindóia | 2024 |  42 | 2,341,528,684 |  30 | 1,672,520,488 | 12 | 0,669008195   |\n| 3500709 | Agudos           | 2024 |  54 | 1,427,099,025 |  38 | 1,004,254,869 | 16 | 0,422844156   |\n| 3501004 | Altinópolis      | 2024 |  21 | 1,244,223,249 |  19 | 1,125,725,797 |  2 | 0,118497452   |\n| 3501103 | Alto Alegre      | 2024 |  22 | 5,790,997,631 |  19 | 5,001,316,136 |  3 | 0,789681495   |\n\n",
            "text/latex": "A tibble: 6 × 9\n\\begin{tabular}{lllllllll}\n cod\\_ibge & localidades & periodos & leitos\\_total & leitos\\_hab & leitos sus & leitos\\_sus\\_hab & leitos não sus & leitos\\_naosus\\_hab\\\\\n <dbl> & <chr> & <dbl> & <dbl> & <chr> & <dbl> & <chr> & <dbl> & <chr>\\\\\n\\hline\n\t 3500105 & Adamantina       & 2024 & 195 & 5,618,625,022 & 138 & 3,976,257,708 & 57 & 1,642,367,314\\\\\n\t 3500303 & Aguaí            & 2024 &  24 & 0,74941452    &  24 & 0,74941452    &  0 & 0            \\\\\n\t 3500501 & Águas de Lindóia & 2024 &  42 & 2,341,528,684 &  30 & 1,672,520,488 & 12 & 0,669008195  \\\\\n\t 3500709 & Agudos           & 2024 &  54 & 1,427,099,025 &  38 & 1,004,254,869 & 16 & 0,422844156  \\\\\n\t 3501004 & Altinópolis      & 2024 &  21 & 1,244,223,249 &  19 & 1,125,725,797 &  2 & 0,118497452  \\\\\n\t 3501103 & Alto Alegre      & 2024 &  22 & 5,790,997,631 &  19 & 5,001,316,136 &  3 & 0,789681495  \\\\\n\\end{tabular}\n",
            "text/plain": [
              "  cod_ibge localidades      periodos leitos_total leitos_hab    leitos sus\n",
              "1 3500105  Adamantina       2024     195          5,618,625,022 138       \n",
              "2 3500303  Aguaí            2024      24          0,74941452     24       \n",
              "3 3500501  Águas de Lindóia 2024      42          2,341,528,684  30       \n",
              "4 3500709  Agudos           2024      54          1,427,099,025  38       \n",
              "5 3501004  Altinópolis      2024      21          1,244,223,249  19       \n",
              "6 3501103  Alto Alegre      2024      22          5,790,997,631  19       \n",
              "  leitos_sus_hab leitos não sus leitos_naosus_hab\n",
              "1 3,976,257,708  57             1,642,367,314    \n",
              "2 0,74941452      0             0                \n",
              "3 1,672,520,488  12             0,669008195      \n",
              "4 1,004,254,869  16             0,422844156      \n",
              "5 1,125,725,797   2             0,118497452      \n",
              "6 5,001,316,136   3             0,789681495      "
            ]
          },
          "metadata": {}
        }
      ]
    },
    {
      "cell_type": "code",
      "source": [
        "sau_df_prep <- sau_df_raw %>%\n",
        "  group_by(cod_ibge,periodos) %>%\n",
        "  summarise(leitos_total = sum(leitos_total, na.rm = TRUE)) %>%\n",
        "  rename(cod_municipio = cod_ibge) %>%\n",
        "  rename(ano = periodos)\n",
        "\n",
        "sau_df_prep %>% head()"
      ],
      "metadata": {
        "colab": {
          "base_uri": "https://localhost:8080/",
          "height": 321
        },
        "id": "qHn_YeegDpaG",
        "outputId": "a0efeb8f-6347-42bd-fb33-59b681bf642b"
      },
      "execution_count": 35,
      "outputs": [
        {
          "output_type": "stream",
          "name": "stderr",
          "text": [
            "\u001b[1m\u001b[22m`summarise()` has grouped output by 'cod_ibge'. You can override using the\n",
            "`.groups` argument.\n"
          ]
        },
        {
          "output_type": "display_data",
          "data": {
            "text/html": [
              "<table class=\"dataframe\">\n",
              "<caption>A grouped_df: 6 × 3</caption>\n",
              "<thead>\n",
              "\t<tr><th scope=col>cod_municipio</th><th scope=col>ano</th><th scope=col>leitos_total</th></tr>\n",
              "\t<tr><th scope=col>&lt;dbl&gt;</th><th scope=col>&lt;dbl&gt;</th><th scope=col>&lt;dbl&gt;</th></tr>\n",
              "</thead>\n",
              "<tbody>\n",
              "\t<tr><td>3500105</td><td>2010</td><td>308</td></tr>\n",
              "\t<tr><td>3500105</td><td>2011</td><td>308</td></tr>\n",
              "\t<tr><td>3500105</td><td>2012</td><td>300</td></tr>\n",
              "\t<tr><td>3500105</td><td>2013</td><td>284</td></tr>\n",
              "\t<tr><td>3500105</td><td>2014</td><td>279</td></tr>\n",
              "\t<tr><td>3500105</td><td>2015</td><td>279</td></tr>\n",
              "</tbody>\n",
              "</table>\n"
            ],
            "text/markdown": "\nA grouped_df: 6 × 3\n\n| cod_municipio &lt;dbl&gt; | ano &lt;dbl&gt; | leitos_total &lt;dbl&gt; |\n|---|---|---|\n| 3500105 | 2010 | 308 |\n| 3500105 | 2011 | 308 |\n| 3500105 | 2012 | 300 |\n| 3500105 | 2013 | 284 |\n| 3500105 | 2014 | 279 |\n| 3500105 | 2015 | 279 |\n\n",
            "text/latex": "A grouped\\_df: 6 × 3\n\\begin{tabular}{lll}\n cod\\_municipio & ano & leitos\\_total\\\\\n <dbl> & <dbl> & <dbl>\\\\\n\\hline\n\t 3500105 & 2010 & 308\\\\\n\t 3500105 & 2011 & 308\\\\\n\t 3500105 & 2012 & 300\\\\\n\t 3500105 & 2013 & 284\\\\\n\t 3500105 & 2014 & 279\\\\\n\t 3500105 & 2015 & 279\\\\\n\\end{tabular}\n",
            "text/plain": [
              "  cod_municipio ano  leitos_total\n",
              "1 3500105       2010 308         \n",
              "2 3500105       2011 308         \n",
              "3 3500105       2012 300         \n",
              "4 3500105       2013 284         \n",
              "5 3500105       2014 279         \n",
              "6 3500105       2015 279         "
            ]
          },
          "metadata": {}
        }
      ]
    },
    {
      "cell_type": "code",
      "source": [
        "# Estatísticas de saúde\n",
        "sau_df <- column_statistics(sau_df_prep, leitos_total, c(\"cod_municipio\"), wider=FALSE)\n",
        "sau_df %>% head()"
      ],
      "metadata": {
        "colab": {
          "base_uri": "https://localhost:8080/",
          "height": 306
        },
        "id": "JH0bpIcpFpZe",
        "outputId": "7fa9c4e9-01e4-440f-8d94-ee1ad0aa31e7"
      },
      "execution_count": 37,
      "outputs": [
        {
          "output_type": "display_data",
          "data": {
            "text/html": [
              "<table class=\"dataframe\">\n",
              "<caption>A tibble: 6 × 8</caption>\n",
              "<thead>\n",
              "\t<tr><th scope=col>cod_municipio</th><th scope=col>leitos_total_25</th><th scope=col>leitos_total_50</th><th scope=col>leitos_total_75</th><th scope=col>leitos_total_90</th><th scope=col>leitos_total_mean</th><th scope=col>leitos_total_std</th><th scope=col>leitos_total_sum</th></tr>\n",
              "\t<tr><th scope=col>&lt;dbl&gt;</th><th scope=col>&lt;dbl&gt;</th><th scope=col>&lt;dbl&gt;</th><th scope=col>&lt;dbl&gt;</th><th scope=col>&lt;dbl&gt;</th><th scope=col>&lt;dbl&gt;</th><th scope=col>&lt;dbl&gt;</th><th scope=col>&lt;dbl&gt;</th></tr>\n",
              "</thead>\n",
              "<tbody>\n",
              "\t<tr><td>3500105</td><td>235</td><td>258</td><td>281.5</td><td>304.8</td><td>257.9333</td><td>37.470878</td><td>3869</td></tr>\n",
              "\t<tr><td>3500204</td><td>  0</td><td>  0</td><td>  0.0</td><td>  0.0</td><td>  0.0000</td><td> 0.000000</td><td>   0</td></tr>\n",
              "\t<tr><td>3500303</td><td>  0</td><td> 10</td><td> 24.0</td><td> 76.0</td><td> 22.0000</td><td>29.393877</td><td> 330</td></tr>\n",
              "\t<tr><td>3500402</td><td>  0</td><td>  0</td><td>  0.0</td><td>  0.0</td><td>  0.0000</td><td> 0.000000</td><td>   0</td></tr>\n",
              "\t<tr><td>3500501</td><td> 42</td><td> 42</td><td> 42.0</td><td> 42.0</td><td> 40.4000</td><td> 4.222389</td><td> 606</td></tr>\n",
              "\t<tr><td>3500550</td><td>  0</td><td>  0</td><td>  0.0</td><td>  0.0</td><td>  0.0000</td><td> 0.000000</td><td>   0</td></tr>\n",
              "</tbody>\n",
              "</table>\n"
            ],
            "text/markdown": "\nA tibble: 6 × 8\n\n| cod_municipio &lt;dbl&gt; | leitos_total_25 &lt;dbl&gt; | leitos_total_50 &lt;dbl&gt; | leitos_total_75 &lt;dbl&gt; | leitos_total_90 &lt;dbl&gt; | leitos_total_mean &lt;dbl&gt; | leitos_total_std &lt;dbl&gt; | leitos_total_sum &lt;dbl&gt; |\n|---|---|---|---|---|---|---|---|\n| 3500105 | 235 | 258 | 281.5 | 304.8 | 257.9333 | 37.470878 | 3869 |\n| 3500204 |   0 |   0 |   0.0 |   0.0 |   0.0000 |  0.000000 |    0 |\n| 3500303 |   0 |  10 |  24.0 |  76.0 |  22.0000 | 29.393877 |  330 |\n| 3500402 |   0 |   0 |   0.0 |   0.0 |   0.0000 |  0.000000 |    0 |\n| 3500501 |  42 |  42 |  42.0 |  42.0 |  40.4000 |  4.222389 |  606 |\n| 3500550 |   0 |   0 |   0.0 |   0.0 |   0.0000 |  0.000000 |    0 |\n\n",
            "text/latex": "A tibble: 6 × 8\n\\begin{tabular}{llllllll}\n cod\\_municipio & leitos\\_total\\_25 & leitos\\_total\\_50 & leitos\\_total\\_75 & leitos\\_total\\_90 & leitos\\_total\\_mean & leitos\\_total\\_std & leitos\\_total\\_sum\\\\\n <dbl> & <dbl> & <dbl> & <dbl> & <dbl> & <dbl> & <dbl> & <dbl>\\\\\n\\hline\n\t 3500105 & 235 & 258 & 281.5 & 304.8 & 257.9333 & 37.470878 & 3869\\\\\n\t 3500204 &   0 &   0 &   0.0 &   0.0 &   0.0000 &  0.000000 &    0\\\\\n\t 3500303 &   0 &  10 &  24.0 &  76.0 &  22.0000 & 29.393877 &  330\\\\\n\t 3500402 &   0 &   0 &   0.0 &   0.0 &   0.0000 &  0.000000 &    0\\\\\n\t 3500501 &  42 &  42 &  42.0 &  42.0 &  40.4000 &  4.222389 &  606\\\\\n\t 3500550 &   0 &   0 &   0.0 &   0.0 &   0.0000 &  0.000000 &    0\\\\\n\\end{tabular}\n",
            "text/plain": [
              "  cod_municipio leitos_total_25 leitos_total_50 leitos_total_75 leitos_total_90\n",
              "1 3500105       235             258             281.5           304.8          \n",
              "2 3500204         0               0               0.0             0.0          \n",
              "3 3500303         0              10              24.0            76.0          \n",
              "4 3500402         0               0               0.0             0.0          \n",
              "5 3500501        42              42              42.0            42.0          \n",
              "6 3500550         0               0               0.0             0.0          \n",
              "  leitos_total_mean leitos_total_std leitos_total_sum\n",
              "1 257.9333          37.470878        3869            \n",
              "2   0.0000           0.000000           0            \n",
              "3  22.0000          29.393877         330            \n",
              "4   0.0000           0.000000           0            \n",
              "5  40.4000           4.222389         606            \n",
              "6   0.0000           0.000000           0            "
            ]
          },
          "metadata": {}
        }
      ]
    },
    {
      "cell_type": "markdown",
      "source": [
        "## Análise Exploratória"
      ],
      "metadata": {
        "id": "o8SIY_4_Ikur"
      }
    },
    {
      "cell_type": "code",
      "source": [
        "joined_df = left_join(pib_df_prep, vti_df_prep , by = c(\"cod_municipio\",\"ano\"))\n",
        "joined_df = left_join(joined_df, exp_df_prep , by = c(\"cod_municipio\",\"ano\"))\n",
        "joined_df = left_join(joined_df, edu_df_prep , by = c(\"cod_municipio\",\"ano\"))\n",
        "joined_df = left_join(joined_df, sau_df_prep , by = c(\"cod_municipio\",\"ano\"))\n",
        "joined_df = left_join(joined_df, edu_df_prep , by = c(\"cod_municipio\",\"ano\"))\n",
        "\n",
        "joined_df <- joined_df %>%\n",
        "  filter(ano < 2020)\n",
        "\n",
        "joined_df %>% head()"
      ],
      "metadata": {
        "colab": {
          "base_uri": "https://localhost:8080/",
          "height": 286
        },
        "id": "G_2Gd9FSGRlU",
        "outputId": "21964a35-c458-4274-a262-2a2e5e08884a"
      },
      "execution_count": 65,
      "outputs": [
        {
          "output_type": "display_data",
          "data": {
            "text/html": [
              "<table class=\"dataframe\">\n",
              "<caption>A tibble: 6 × 8</caption>\n",
              "<thead>\n",
              "\t<tr><th scope=col>ano</th><th scope=col>cod_municipio</th><th scope=col>pib</th><th scope=col>vti</th><th scope=col>exp</th><th scope=col>IDEB_Media.x</th><th scope=col>leitos_total</th><th scope=col>IDEB_Media.y</th></tr>\n",
              "\t<tr><th scope=col>&lt;dbl&gt;</th><th scope=col>&lt;dbl&gt;</th><th scope=col>&lt;dbl&gt;</th><th scope=col>&lt;dbl&gt;</th><th scope=col>&lt;dbl&gt;</th><th scope=col>&lt;dbl&gt;</th><th scope=col>&lt;dbl&gt;</th><th scope=col>&lt;dbl&gt;</th></tr>\n",
              "</thead>\n",
              "<tbody>\n",
              "\t<tr><td>2019</td><td>3500105</td><td>1191133832</td><td>23901120</td><td>NA</td><td>56.3</td><td>235</td><td>56.3</td></tr>\n",
              "\t<tr><td>2019</td><td>3500105</td><td>1191133832</td><td>      NA</td><td>NA</td><td>56.3</td><td>235</td><td>56.3</td></tr>\n",
              "\t<tr><td>2019</td><td>3500105</td><td>1191133832</td><td>      NA</td><td>NA</td><td>56.3</td><td>235</td><td>56.3</td></tr>\n",
              "\t<tr><td>2019</td><td>3500105</td><td>1191133832</td><td>15442920</td><td>NA</td><td>56.3</td><td>235</td><td>56.3</td></tr>\n",
              "\t<tr><td>2019</td><td>3500105</td><td>1191133832</td><td>      NA</td><td>NA</td><td>56.3</td><td>235</td><td>56.3</td></tr>\n",
              "\t<tr><td>2019</td><td>3500105</td><td>1191133832</td><td>      NA</td><td>NA</td><td>56.3</td><td>235</td><td>56.3</td></tr>\n",
              "</tbody>\n",
              "</table>\n"
            ],
            "text/markdown": "\nA tibble: 6 × 8\n\n| ano &lt;dbl&gt; | cod_municipio &lt;dbl&gt; | pib &lt;dbl&gt; | vti &lt;dbl&gt; | exp &lt;dbl&gt; | IDEB_Media.x &lt;dbl&gt; | leitos_total &lt;dbl&gt; | IDEB_Media.y &lt;dbl&gt; |\n|---|---|---|---|---|---|---|---|\n| 2019 | 3500105 | 1191133832 | 23901120 | NA | 56.3 | 235 | 56.3 |\n| 2019 | 3500105 | 1191133832 |       NA | NA | 56.3 | 235 | 56.3 |\n| 2019 | 3500105 | 1191133832 |       NA | NA | 56.3 | 235 | 56.3 |\n| 2019 | 3500105 | 1191133832 | 15442920 | NA | 56.3 | 235 | 56.3 |\n| 2019 | 3500105 | 1191133832 |       NA | NA | 56.3 | 235 | 56.3 |\n| 2019 | 3500105 | 1191133832 |       NA | NA | 56.3 | 235 | 56.3 |\n\n",
            "text/latex": "A tibble: 6 × 8\n\\begin{tabular}{llllllll}\n ano & cod\\_municipio & pib & vti & exp & IDEB\\_Media.x & leitos\\_total & IDEB\\_Media.y\\\\\n <dbl> & <dbl> & <dbl> & <dbl> & <dbl> & <dbl> & <dbl> & <dbl>\\\\\n\\hline\n\t 2019 & 3500105 & 1191133832 & 23901120 & NA & 56.3 & 235 & 56.3\\\\\n\t 2019 & 3500105 & 1191133832 &       NA & NA & 56.3 & 235 & 56.3\\\\\n\t 2019 & 3500105 & 1191133832 &       NA & NA & 56.3 & 235 & 56.3\\\\\n\t 2019 & 3500105 & 1191133832 & 15442920 & NA & 56.3 & 235 & 56.3\\\\\n\t 2019 & 3500105 & 1191133832 &       NA & NA & 56.3 & 235 & 56.3\\\\\n\t 2019 & 3500105 & 1191133832 &       NA & NA & 56.3 & 235 & 56.3\\\\\n\\end{tabular}\n",
            "text/plain": [
              "  ano  cod_municipio pib        vti      exp IDEB_Media.x leitos_total\n",
              "1 2019 3500105       1191133832 23901120 NA  56.3         235         \n",
              "2 2019 3500105       1191133832       NA NA  56.3         235         \n",
              "3 2019 3500105       1191133832       NA NA  56.3         235         \n",
              "4 2019 3500105       1191133832 15442920 NA  56.3         235         \n",
              "5 2019 3500105       1191133832       NA NA  56.3         235         \n",
              "6 2019 3500105       1191133832       NA NA  56.3         235         \n",
              "  IDEB_Media.y\n",
              "1 56.3        \n",
              "2 56.3        \n",
              "3 56.3        \n",
              "4 56.3        \n",
              "5 56.3        \n",
              "6 56.3        "
            ]
          },
          "metadata": {}
        }
      ]
    },
    {
      "cell_type": "code",
      "source": [],
      "metadata": {
        "id": "YVwdZKbhKEjf"
      },
      "execution_count": null,
      "outputs": []
    }
  ]
}